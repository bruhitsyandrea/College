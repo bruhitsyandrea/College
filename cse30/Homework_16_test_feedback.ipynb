{
  "cells": [
    {
      "cell_type": "markdown",
      "metadata": {
        "id": "5e1635266d6487ca"
      },
      "source": [
        "# Overall Score\n",
        "\n",
        "You received 70 out of 100 points.\n"
      ]
    },
    {
      "cell_type": "markdown",
      "metadata": {
        "id": "CbiLhrFfIQ3R"
      },
      "source": [
        "Before you turn this problem in, make sure everything runs as expected. First, **restart the kernel** (in the menubar, select Kernel$\\rightarrow$Restart) and then **run all cells** (in the menubar, select Cell$\\rightarrow$Run All).\n",
        "\n",
        "Make sure you fill in any place that says `YOUR CODE HERE` or \"YOUR ANSWER HERE\", as well as your name and collaborators below:"
      ]
    },
    {
      "cell_type": "code",
      "execution_count": null,
      "metadata": {
        "id": "EG3uAG7xIQ3U"
      },
      "outputs": [],
      "source": [
        "NAME = \"\"\n",
        "COLLABORATORS = \"\""
      ]
    },
    {
      "cell_type": "markdown",
      "metadata": {
        "id": "fdkGlEkYIQ3X"
      },
      "source": [
        "---"
      ]
    },
    {
      "cell_type": "markdown",
      "metadata": {
        "deletable": false,
        "editable": false,
        "id": "4sVnwkGIIQ3Y",
        "nbgrader": {
          "checksum": null,
          "grade": false,
          "grade_id": "cell-94263b50821e127f",
          "locked": true,
          "schema_version": 3,
          "solution": false
        }
      },
      "source": [
        "# CSE 30 Winter 2022 - Homework 16\n",
        "\n",
        "Copyright Luca de Alfaro, 2020.  License: [CC-BY-NC-ND](https://creativecommons.org/licenses/by-nc-nd/4.0/).\n",
        "\n",
        "\n",
        "### Instructions\n",
        "\n",
        "Please disregard the YOUR NAME and COLLABORATORS above.  They are put there atomatically by the grading tool.\n",
        "You can find instructions on how to work on a homework on Canvas.  Here is a short summary:\n",
        "\n",
        "### Submitting your work\n",
        "\n",
        "To submit your work:\n",
        "\n",
        "* First, click on \"Runtime > Restart and run all\", and check that you get no errors.  This enables you to catch any error you might have introduced, and not noticed, due to your running cells out of order.\n",
        "* Second, download the notebook in .ipynb format (File > Download .ipynb) and upload the .ipynb file to [this form](https://docs.google.com/forms/d/e/1FAIpQLSc8Mdao4KHmzgnVO4UHmS-pnyjuDKDkwusAcJZxbIPmn8vlEA/viewform?usp=sf_link).  This homework is due at **11:59pm on Friday, 11 March 2022**.\n",
        "\n",
        "You can submit multiple times; the last submission before the deadline is the one that counts.\n",
        "\n",
        "### Homework format\n",
        "\n",
        "For each question in this notebook, there is:\n",
        "\n",
        "* A text description of the problem.\n",
        "* One or more places where you have to insert your solution.  You need to complete every place marked:\n",
        "\n",
        "    `# YOUR CODE HERE`\n",
        "    \n",
        "    and you should not modify any other place.\n",
        "* One or more test cells.  Each cell is worth some number of points, marked at the top.  You should not modify these tests cells.  The tests pass if no error is printed out: when there is a statement that says, for instance:\n",
        "\n",
        "    `assert x == 2`\n",
        "    \n",
        "    then the test passes if `x` has value 2, and fails otherwise.  You can insert a `print(x)` (for this case!) somewhere if you want to debug your work; it is up to you.  \n",
        "    \n",
        "### Notes:\n",
        "\n",
        "* Your code will be tested both according to the tests you can see (the `assert` statements you can see), _and_ additional tests.  This prevents you from hard-coding the answer to the particular questions posed.  Your code should solve the _general_ intended case, not hard-code the particular answer for the values used in the tests.\n",
        "\n",
        "* **Please do not delete or add cells!** The test is autograded, and if you modify the test by adding or deleting cells, even if you re-add cells you delete, you may not receive credit.\n",
        "\n",
        "* **Please do not import modules that are not part of the [standard library](https://docs.python.org/3/library/index.html).** You do not need any, and they will likely not available in the grading environment, leading your code to fail.\n",
        "\n",
        "* **If you are inactive too long, your notebook might get disconnected from the back-end.** Your work is never lost, but you have to re-run all the cells before you continue.\n",
        "\n",
        "* You can write out print statements in your code, to help you test/debug it. But remember: the code is graded on the basis of what it outputs or returns, not on the basis of what it prints.\n",
        "\n",
        "* **TAs and tutors have access to this notebook,** so if you let them know you need their help, they can look at your work and give you advice.\n",
        "\n",
        "### Grading\n",
        "\n",
        "Each cell where there are tests is worth a certain number of points.  You get the points allocated to a cell only if you pass _all_ the tests in the cell.\n",
        "\n",
        "The tests in a cell include both the tests you can see, and other, similar, tests that are used for grading only.  Therefore, you cannot hard-code the solutions: you really have to solve the essence of the problem, to receive the points in a cell.\n",
        "\n",
        "### Code of Conduct\n",
        "\n",
        "* Work on the test yourself, alone.\n",
        "* You can search documentation on the web, on sites such as the Python documentation sites, Stackoverflow, and similar, and you can use the results.\n",
        "* You cannot share your work with others or solicit their help."
      ]
    },
    {
      "cell_type": "markdown",
      "metadata": {
        "deletable": false,
        "editable": false,
        "id": "RTK8QCjFIQ3a",
        "nbgrader": {
          "checksum": null,
          "grade": false,
          "grade_id": "cell-34d3e7c253e0c37e",
          "locked": true,
          "schema_version": 3,
          "solution": false
        }
      },
      "source": [
        "----\n",
        "\n",
        "## From Sudoku to SAT\n",
        "\n",
        "Sudoku is a search problem.  SAT is a prototypical search problem, and more precisely, SAT is perhaps the most basic of the _NP-Complete_ problems: the problems where, if you could only _guess_ the solution, you could _verify_ that it is truly a solution in time that is polynomial in the size of the problem (in case of SAT, the sum of the length of all the clauses).\n",
        "\n",
        "This opens the question: can we solve Sudoku, rather than by writing a special-purpose Sudoku solver, by translating the Sudoku problem to SAT, and using an off-the-shelf SAT solver?  There is a lot of research that went into developing efficient SAT solvers: would it be more efficient to use a custom solver, as we did, or to translate and rely on an off-the-shelf SAT solver?  Let's experiment."
      ]
    },
    {
      "cell_type": "markdown",
      "metadata": {
        "deletable": false,
        "editable": false,
        "id": "Rsrs71pzIQ3b",
        "nbgrader": {
          "checksum": null,
          "grade": false,
          "grade_id": "cell-15eefbe643b16ee5",
          "locked": true,
          "schema_version": 3,
          "solution": false
        }
      },
      "source": [
        "### Installing a SAT solver library"
      ]
    },
    {
      "cell_type": "markdown",
      "metadata": {
        "deletable": false,
        "editable": false,
        "id": "e40Kx-lQIQ3b",
        "nbgrader": {
          "checksum": null,
          "grade": false,
          "grade_id": "cell-e15cc35a1c77b80d",
          "locked": true,
          "schema_version": 3,
          "solution": false
        }
      },
      "source": [
        "Let us install our library for SAT solvers.  Here is a link to the [pysat](https://pysathq.github.io/usage.html) documentation."
      ]
    },
    {
      "cell_type": "code",
      "execution_count": null,
      "metadata": {
        "deletable": false,
        "editable": false,
        "id": "Pan30dWtIQ3c",
        "nbgrader": {
          "checksum": null,
          "grade": false,
          "grade_id": "cell-aff8b789d9842c4d",
          "locked": true,
          "schema_version": 3,
          "solution": false
        }
      },
      "outputs": [],
      "source": [
        "try:\n",
        "    import pysat\n",
        "except:\n",
        "    !pip install python-sat\n",
        "    import pysat\n"
      ]
    },
    {
      "cell_type": "markdown",
      "metadata": {
        "deletable": false,
        "editable": false,
        "id": "Jvm0JYjQIQ3d",
        "nbgrader": {
          "checksum": null,
          "grade": false,
          "grade_id": "cell-53ebf65bd5c63d98",
          "locked": true,
          "schema_version": 3,
          "solution": false
        }
      },
      "source": [
        "Let us check that our solver works.  The Glucose solver is one of the solvers."
      ]
    },
    {
      "cell_type": "code",
      "execution_count": null,
      "metadata": {
        "colab": {
          "base_uri": "https://localhost:8080/"
        },
        "deletable": false,
        "editable": false,
        "id": "hVmoj_I8IQ3e",
        "nbgrader": {
          "checksum": null,
          "grade": false,
          "grade_id": "cell-5969e2b9880c9cde",
          "locked": true,
          "schema_version": 3,
          "solution": false
        },
        "outputId": "13520ab4-f1f5-44b9-a565-810335073fc8"
      },
      "outputs": [
        {
          "name": "stdout",
          "output_type": "stream",
          "text": [
            "True\n",
            "[-1, -2, -3]\n"
          ]
        }
      ],
      "source": [
        "from pysat.solvers import Glucose3\n",
        "g = Glucose3()\n",
        "g.add_clause([-1, 2])\n",
        "g.add_clause([-2, 3])\n",
        "print(g.solve())\n",
        "print(g.get_model())\n",
        "g.delete()\n"
      ]
    },
    {
      "cell_type": "markdown",
      "metadata": {
        "deletable": false,
        "editable": false,
        "id": "08-5APBkIQ3f",
        "nbgrader": {
          "checksum": null,
          "grade": false,
          "grade_id": "cell-f27b373a697746e6",
          "locked": true,
          "schema_version": 3,
          "solution": false
        }
      },
      "source": [
        "Rather than deleting the solver after use with `g.delete()`, it is better to use the solver within a `with` clause: this avoids the problem of forgetting to delete the solver after use."
      ]
    },
    {
      "cell_type": "code",
      "execution_count": null,
      "metadata": {
        "colab": {
          "base_uri": "https://localhost:8080/"
        },
        "deletable": false,
        "editable": false,
        "id": "0a20KMixIQ3g",
        "nbgrader": {
          "checksum": null,
          "grade": false,
          "grade_id": "cell-4aaece271e6a53c2",
          "locked": true,
          "schema_version": 3,
          "solution": false
        },
        "outputId": "17f7a413-4365-4769-ca2a-5752ef9f4486"
      },
      "outputs": [
        {
          "name": "stdout",
          "output_type": "stream",
          "text": [
            "True\n",
            "[-1, -2, -3]\n"
          ]
        }
      ],
      "source": [
        "with Glucose3() as g:\n",
        "    g.add_clause([-1, 2])\n",
        "    g.add_clause([-2, 3])\n",
        "    print(g.solve())\n",
        "    print(g.get_model())\n"
      ]
    },
    {
      "cell_type": "markdown",
      "metadata": {
        "deletable": false,
        "editable": false,
        "id": "NaBT1uxAIQ3h",
        "nbgrader": {
          "checksum": null,
          "grade": false,
          "grade_id": "cell-6527f161d077599b",
          "locked": true,
          "schema_version": 3,
          "solution": false
        }
      },
      "source": [
        "There are also Glucose4, and Minisat22.  They all work in the same way."
      ]
    },
    {
      "cell_type": "code",
      "execution_count": null,
      "metadata": {
        "colab": {
          "base_uri": "https://localhost:8080/"
        },
        "deletable": false,
        "editable": false,
        "id": "bEBX620AIQ3h",
        "nbgrader": {
          "checksum": null,
          "grade": false,
          "grade_id": "cell-2a74bff834cc9d4d",
          "locked": true,
          "schema_version": 3,
          "solution": false
        },
        "outputId": "9769204c-7ad3-4ada-a9f1-6efee0192602"
      },
      "outputs": [
        {
          "name": "stdout",
          "output_type": "stream",
          "text": [
            "True\n",
            "[-1, -2, -3]\n"
          ]
        }
      ],
      "source": [
        "from pysat.solvers import Glucose4, Minisat22\n",
        "with Minisat22() as g:\n",
        "    g.add_clause([-1, 2])\n",
        "    g.add_clause([-2, 3])\n",
        "    print(g.solve())\n",
        "    print(g.get_model())\n"
      ]
    },
    {
      "cell_type": "markdown",
      "metadata": {
        "deletable": false,
        "editable": false,
        "id": "hPZi9YU_IQ3i",
        "nbgrader": {
          "checksum": null,
          "grade": false,
          "grade_id": "cell-ebd0a7b432694762",
          "locked": true,
          "schema_version": 3,
          "solution": false
        }
      },
      "source": [
        "## A `SudokuViaSAT` class.\n",
        "\n",
        "The first thing we do is to write a Sudoku class that can represent a Sudoku problem to be solved.  Unlike our previosu representation, each cell here will contain either a digit 1..9, or 0, where 0 represents an unknown digit.\n",
        "We do not need to represent our solver's state of knowledge in terms of sets of digits, since the seach for a solution will be done in the SAT solver.\n",
        "\n",
        "The class has three methods, which we will fill in later: one for translating the Sudoku into a SAT instance, one for solving the SAT instance, and another one for using the solution to the SAT instance to fill in the unspecified cells of the Sudoku problem.\n",
        "\n",
        "Contrary to the previous approach, we keep the state of the board as a numpy array, of size 9 x 9; this will make indexing in the array a little bit more pleasant.\n",
        "The reason we could not use this representation earlier is that we wanted to associate with each cell a _set_ of digits, and sets are not pleasant to represent in Numpy; single digits are."
      ]
    },
    {
      "cell_type": "code",
      "execution_count": null,
      "metadata": {
        "deletable": false,
        "id": "jAFYbT2lIQ3i",
        "nbgrader": {
          "checksum": null,
          "grade": false,
          "grade_id": "cell-544f7f15c1b64ec2",
          "locked": false,
          "schema_version": 3,
          "solution": true
        },
        "outputId": "5263b71e-568d-41a5-a6c7-8b136fd9a073"
      },
      "outputs": [
        {
          "ename": "ModuleNotFoundError",
          "evalue": "No module named 'numpy'",
          "output_type": "error",
          "traceback": [
            "\u001b[0;31m---------------------------------------------------------------------------\u001b[0m",
            "\u001b[0;31mModuleNotFoundError\u001b[0m                       Traceback (most recent call last)",
            "\u001b[0;32m<ipython-input-6-64444210d7e6>\u001b[0m in \u001b[0;36m<module>\u001b[0;34m\u001b[0m\n\u001b[0;32m----> 1\u001b[0;31m \u001b[0;32mimport\u001b[0m \u001b[0mnumpy\u001b[0m \u001b[0;32mas\u001b[0m \u001b[0mnp\u001b[0m\u001b[0;34m\u001b[0m\u001b[0;34m\u001b[0m\u001b[0m\n\u001b[0m\u001b[1;32m      2\u001b[0m \u001b[0;34m\u001b[0m\u001b[0m\n\u001b[1;32m      3\u001b[0m \u001b[0;32mclass\u001b[0m \u001b[0mSudokuViaSAT\u001b[0m\u001b[0;34m(\u001b[0m\u001b[0mobject\u001b[0m\u001b[0;34m)\u001b[0m\u001b[0;34m:\u001b[0m\u001b[0;34m\u001b[0m\u001b[0;34m\u001b[0m\u001b[0m\n\u001b[1;32m      4\u001b[0m \u001b[0;34m\u001b[0m\u001b[0m\n\u001b[1;32m      5\u001b[0m     \u001b[0;32mdef\u001b[0m \u001b[0m__init__\u001b[0m\u001b[0;34m(\u001b[0m\u001b[0mself\u001b[0m\u001b[0;34m,\u001b[0m \u001b[0msudoku_string\u001b[0m\u001b[0;34m)\u001b[0m\u001b[0;34m:\u001b[0m\u001b[0;34m\u001b[0m\u001b[0;34m\u001b[0m\u001b[0m\n",
            "\u001b[0;31mModuleNotFoundError\u001b[0m: No module named 'numpy'"
          ]
        }
      ],
      "source": [
        "import numpy as np\n",
        "\n",
        "class SudokuViaSAT(object):\n",
        "\n",
        "    def __init__(self, sudoku_string):\n",
        "        \"\"\"\n",
        "        @param sudoku_string: an 81-long digit string: 0 represents an unknown\n",
        "            digit, and 1..9 represent the respective digit.\n",
        "        \"\"\"\n",
        "        assert len(sudoku_string) > 80\n",
        "        self.board = np.zeros((9, 9), dtype=np.uint8)\n",
        "        for i in range(9):\n",
        "            for j in range(9):\n",
        "                self.board[i, j] = int(sudoku_string[i * 9 + j])\n",
        "        self.sat = None # This will be the SAT instance.\n",
        "        # Perform here any other initialization you think you need.\n",
        "        # YOUR CODE HERE\n",
        "\n",
        "\n",
        "    def show(self):\n",
        "        \"\"\"Prints out the board.\"\"\"\n",
        "        print(\"+---+---+---+\")\n",
        "        for i in range(9):\n",
        "            r = '|'\n",
        "            for j in range(9):\n",
        "                r += \".\" if self.board[i, j] == 0 else str(self.board[i, j])\n",
        "                if (j + 1) % 3 == 0:\n",
        "                    r += \"|\"\n",
        "            print(r)\n",
        "            if (i + 1) % 3 == 0:\n",
        "                print(\"+---+---+---+\")\n"
      ]
    },
    {
      "cell_type": "code",
      "execution_count": null,
      "metadata": {
        "colab": {
          "base_uri": "https://localhost:8080/"
        },
        "deletable": false,
        "editable": false,
        "id": "1EWMvN8pIQ3i",
        "nbgrader": {
          "checksum": null,
          "grade": false,
          "grade_id": "cell-a9381a141dd36a44",
          "locked": true,
          "schema_version": 3,
          "solution": false
        },
        "outputId": "b7151877-2715-425d-b57d-d91aa9da9a42"
      },
      "outputs": [
        {
          "ename": "NameError",
          "evalue": "name 'SudokuViaSAT' is not defined",
          "output_type": "error",
          "traceback": [
            "\u001b[0;31m---------------------------------------------------------------------------\u001b[0m",
            "\u001b[0;31mNameError\u001b[0m                                 Traceback (most recent call last)",
            "\u001b[0;32m<ipython-input-7-b77037e3b969>\u001b[0m in \u001b[0;36m<module>\u001b[0;34m\u001b[0m\n\u001b[1;32m      1\u001b[0m \u001b[0mproblem\u001b[0m \u001b[0;34m=\u001b[0m \u001b[0;34m\"000000061350000000400050000020000800000601000000700000000080200600400000007000010\"\u001b[0m\u001b[0;34m\u001b[0m\u001b[0;34m\u001b[0m\u001b[0m\n\u001b[0;32m----> 2\u001b[0;31m \u001b[0msd\u001b[0m \u001b[0;34m=\u001b[0m \u001b[0mSudokuViaSAT\u001b[0m\u001b[0;34m(\u001b[0m\u001b[0mproblem\u001b[0m\u001b[0;34m)\u001b[0m\u001b[0;34m\u001b[0m\u001b[0;34m\u001b[0m\u001b[0m\n\u001b[0m\u001b[1;32m      3\u001b[0m \u001b[0msd\u001b[0m\u001b[0;34m.\u001b[0m\u001b[0mshow\u001b[0m\u001b[0;34m(\u001b[0m\u001b[0;34m)\u001b[0m\u001b[0;34m\u001b[0m\u001b[0;34m\u001b[0m\u001b[0m\n",
            "\u001b[0;31mNameError\u001b[0m: name 'SudokuViaSAT' is not defined"
          ]
        }
      ],
      "source": [
        "problem = \"000000061350000000400050000020000800000601000000700000000080200600400000007000010\"\n",
        "sd = SudokuViaSAT(problem)\n",
        "sd.show()\n"
      ]
    },
    {
      "cell_type": "markdown",
      "metadata": {
        "deletable": false,
        "editable": false,
        "id": "jVEey8XdIQ3j",
        "nbgrader": {
          "checksum": null,
          "grade": false,
          "grade_id": "cell-abd5fa8c47c1156d",
          "locked": true,
          "schema_version": 3,
          "solution": false
        }
      },
      "source": [
        "## Variables\n",
        "\n",
        "We base our trasnslation of Sudoku into SAT on variables $p_{dij}$, where $p_{dij}$ expresses the fact that the digit $d$ appears at coordinates $(i, j)$.\n",
        "Since SAT solvers represent a variable by an integer, we will have that $p_{dij}$ is encoded simply using the integer $dij$ (in decimal notation), and the literal $\\bar{p}_{dij}$ will be encoded as $-dij$.\n",
        "\n",
        "For example, to express that digit 3 appears at coordinates 6, 7, we use the literal 367.  To express the negation of this, $\\bar{p}_{367}$, that is, that digit 3 _does not_ appear at coordinates 6, 7, we use the literal -367.\n",
        "\n",
        "We thus start by writing two helper functions, `encode_variable` and `decode_variable`, that go from $d, i, j$ to the corresponding integer, and vice versa.  \n",
        "We write one of them for you, and we ask you to write the other."
      ]
    },
    {
      "cell_type": "code",
      "execution_count": null,
      "metadata": {
        "deletable": false,
        "editable": false,
        "id": "hAT0E_1RIQ3j",
        "nbgrader": {
          "checksum": null,
          "grade": false,
          "grade_id": "cell-c927ed1f885fd6a6",
          "locked": true,
          "schema_version": 3,
          "solution": false
        }
      },
      "outputs": [],
      "source": [
        "def encode_variable(d, i, j):\n",
        "    \"\"\"This function creates the variable (the integer) representing the\n",
        "    fact that digit d appears in position i, j.\n",
        "    Of course, to obtain the complement variable, you can just negate\n",
        "    (take the negative) of the returned integer.\n",
        "    Note that it must be: 1 <= d <= 9, 0 <= i <= 8, 0 <= j <= 8.\"\"\"\n",
        "    assert 1 <= d <= 9\n",
        "    assert 0 <= i < 9\n",
        "    assert 0 <= j < 9\n",
        "    # The int() below seems useless, but it is not.  If d is a numpy.uint8,\n",
        "    # as an element of the board is, this int() ensures that the generated\n",
        "    # literal is a normal Python integer, as the SAT solvers expect.\n",
        "    return int(d * 100 + i * 10 + j)\n"
      ]
    },
    {
      "cell_type": "code",
      "execution_count": null,
      "metadata": {
        "deletable": false,
        "editable": false,
        "id": "L_2jvWwLIQ3j",
        "nbgrader": {
          "checksum": null,
          "grade": false,
          "grade_id": "cell-64dcab3ae185dcff",
          "locked": true,
          "schema_version": 3,
          "solution": false
        }
      },
      "outputs": [],
      "source": [
        "# Let's define a testing helper.\n",
        "\n",
        "def check_equal(x, y, msg=None):\n",
        "    if x != y:\n",
        "        if msg is None:\n",
        "            print(\"Error:\")\n",
        "        else:\n",
        "            print(\"Error in\", msg, \":\")\n",
        "        print(\"    Your answer was:\", x)\n",
        "        print(\"    Correct answer: \", y)\n",
        "    assert x == y, \"%r and %r are different\" % (x, y)\n"
      ]
    },
    {
      "cell_type": "code",
      "execution_count": null,
      "metadata": {
        "deletable": false,
        "editable": false,
        "id": "pga9GcKGIQ3k",
        "nbgrader": {
          "checksum": null,
          "grade": false,
          "grade_id": "cell-ae889d901ccfc5aa",
          "locked": true,
          "schema_version": 3,
          "solution": false
        }
      },
      "outputs": [],
      "source": [
        "check_equal(encode_variable(3, 6, 7), 367)\n"
      ]
    },
    {
      "cell_type": "markdown",
      "metadata": {
        "deletable": false,
        "editable": false,
        "id": "VUCjMGvjIQ3k",
        "nbgrader": {
          "checksum": null,
          "grade": false,
          "grade_id": "cell-ffa2eb9646c2a7fa",
          "locked": true,
          "schema_version": 3,
          "solution": false
        }
      },
      "source": [
        "It's your turn now to write a function `decode_variable` that is the opposite of `encode_variable`."
      ]
    },
    {
      "cell_type": "code",
      "execution_count": null,
      "metadata": {
        "deletable": false,
        "id": "MVQvtxQ_IQ3k",
        "nbgrader": {
          "checksum": null,
          "grade": false,
          "grade_id": "cell-549959a68f2b85d4",
          "locked": false,
          "schema_version": 3,
          "solution": true
        }
      },
      "outputs": [],
      "source": [
        "def decode_variable(p):\n",
        "    \"\"\"Given an integer constructed as by _create_prediate above,\n",
        "    returns the tuple (d, i, j), where d is the digit, and i, j are\n",
        "    the cells where the digit is.  Returns None if the integer is out of\n",
        "    range.\n",
        "    Note that it must be: 1 <= d <= x 9, 0 <= i <= 8, 0 <= j <= 8.\n",
        "    If this does not hold, return None.\n",
        "    Also return None if p is not in the range from 100, to 988 (the\n",
        "    highest and lowest values that p can assume).\n",
        "    Hint: modulo arithmetic via %, // is useful here!\"\"\"\n",
        "    # YOUR CODE HERE\n",
        "    j = p%10\n",
        "    i = (p//10)%10\n",
        "    d = p//100\n",
        "    if 1 <= d <= 9:\n",
        "      if 0 <= i <=8:\n",
        "        if 0 <= j <=8:\n",
        "          return (d,i,j)\n",
        "    else:\n",
        "      return None\n",
        "\n",
        "\n"
      ]
    },
    {
      "cell_type": "markdown",
      "metadata": {
        "deletable": false,
        "editable": false,
        "id": "ovgQdzUsIQ3k",
        "nbgrader": {
          "checksum": null,
          "grade": false,
          "grade_id": "cell-fe38e522d03ccb0c",
          "locked": true,
          "schema_version": 3,
          "solution": false
        }
      },
      "source": [
        "Let's test this.\n",
        "\n"
      ]
    },
    {
      "cell_type": "code",
      "execution_count": null,
      "metadata": {
        "deletable": false,
        "editable": false,
        "id": "JLgKvHHcIQ3l",
        "nbgrader": {
          "checksum": null,
          "grade": true,
          "grade_id": "cell-de5ad0dc9c87ce81",
          "locked": true,
          "points": 10,
          "schema_version": 3,
          "solution": false
        }
      },
      "outputs": [],
      "source": [
        "### For this question, you received 10 out of 10 points.\n",
        "\n",
        "for d in range(1, 10):\n",
        "    for i in range(9):\n",
        "        for j in range(9):\n",
        "            r = decode_variable(encode_variable(d, i, j))\n",
        "            check_equal((d, i, j), r)\n",
        "\n"
      ]
    },
    {
      "cell_type": "markdown",
      "metadata": {
        "deletable": false,
        "editable": false,
        "id": "kD_BNrYgIQ3m",
        "nbgrader": {
          "checksum": null,
          "grade": false,
          "grade_id": "cell-cbecc904d5c47d2c",
          "locked": true,
          "schema_version": 3,
          "solution": false
        }
      },
      "source": [
        "## Creating the clauses that represent a generic Sudoku problem\n",
        "\n",
        "The key to translating Sudoku to SAT consists in producing a list of clauses that encodes the rules of Sudoku.  We will create list of clauses expressing the following.\n",
        "Below, we have $1 \\leq d \\leq 9$, and $0 \\leq i, j \\leq 8$.\n",
        "\n",
        "1. At each cell $i, j$ at least one digit $d$ must appear.\n",
        "2. At each cell $i, j$, at most one digit $d$ must appear.\n",
        "* If a digit $d$ appears at cell $i, j$, the same digit $d$ will not appear elsewhere on:\n",
        "    3. The same column.\n",
        "    4. The same row.\n",
        "    5. The same 3x3 Sudoku block.\n",
        "\n",
        "Note that conditions 1 and 2 are obvious to a human, and were encoded implicitly in our Sudoku solver.  Our SAT solver, however, has no idea of what a variable like $p_{367}$ means, or that digit 3 appears in cell 6, 7; therefore, we must teach it that exactly one digit apppears in each cell, via clauses.\n",
        "\n",
        "As an example, you can say that at at least one digit appears in cell 6, 7 via the clause:\n",
        "\n",
        "$$\n",
        "[p_{167}, p_{267}, \\ldots, p_{967}]\n",
        "$$\n",
        "\n",
        "and you can say that if 2 appears in cell 67, then 3 does not apper in that same cell, via:\n",
        "\n",
        "$$\n",
        "[\\bar{p}_{267}, \\bar{p}_{367}] \\; .\n",
        "$$\n",
        "\n",
        "In literals ready for SAT, the latter is [-267, -367].\n",
        "Similarly, to say that if a 2 appears at 6, 7, it does not appear on the same row at 6, 8, you would use the clause [-267, -268].\n",
        "\n",
        "You will be creating these list of clauses below, for the cases 1, 2, 3, 4, 5 above."
      ]
    },
    {
      "cell_type": "markdown",
      "metadata": {
        "deletable": false,
        "editable": false,
        "id": "R8oKbenFIQ3m",
        "nbgrader": {
          "checksum": null,
          "grade": false,
          "grade_id": "cell-ca2dd717c732e45f",
          "locked": true,
          "schema_version": 3,
          "solution": false
        }
      },
      "source": [
        "### 1. Cells contain at least one digit\n",
        "\n",
        "For each cell $i, j$, you have to create a clause stating that at least one $p_{dij}$ is true, for some $d$.  You can easily build it as the disjunction $p_{1ij} \\vee p_{2ij} \\vee \\cdots \\vee p_{9ij}$, corresponding to the clause:  \n",
        "\n",
        "$$\n",
        "[p_{1ij}, p_{2ij}, \\ldots, p_{9ij}] \\; .\n",
        "$$\n",
        "\n",
        "Of course, to generate the clause for the SAT solver, you have to encode the variables $p_{1ij}, p_{2ij}, \\ldots, p_{9ij}$ using `encode_variable`."
      ]
    },
    {
      "cell_type": "code",
      "execution_count": null,
      "metadata": {
        "deletable": false,
        "id": "awJ7EJYfIQ3m",
        "nbgrader": {
          "checksum": null,
          "grade": false,
          "grade_id": "cell-62e8e10c5f6ad251",
          "locked": false,
          "schema_version": 3,
          "solution": true
        }
      },
      "outputs": [],
      "source": [
        "def every_cell_contains_at_least_one_digit():\n",
        "    \"\"\"Returns a list of clauses, stating that every cell must contain\n",
        "    at least one digit.\"\"\"\n",
        "    # YOUR CODE HERE\n",
        "    clause = []\n",
        "    t = []\n",
        "    for row in range(9):\n",
        "      for col in range(9):\n",
        "        for num in range(1,10):\n",
        "          t.append(encode_variable(num,row,col))\n",
        "        clause.append(t)\n",
        "        t=[]\n",
        "\n",
        "    return clause\n"
      ]
    },
    {
      "cell_type": "markdown",
      "metadata": {
        "deletable": false,
        "editable": false,
        "id": "Yxwt2_3tIQ3m",
        "nbgrader": {
          "checksum": null,
          "grade": false,
          "grade_id": "cell-2f81606473f887ea",
          "locked": true,
          "schema_version": 3,
          "solution": false
        }
      },
      "source": [
        "We test it with help of a SAT solver."
      ]
    },
    {
      "cell_type": "code",
      "execution_count": null,
      "metadata": {
        "deletable": false,
        "editable": false,
        "id": "lj0sgFxTIQ3n",
        "nbgrader": {
          "checksum": null,
          "grade": true,
          "grade_id": "cell-c33be26c623c5807",
          "locked": true,
          "points": 10,
          "schema_version": 3,
          "solution": false
        }
      },
      "outputs": [],
      "source": [
        "### For this question, you received 10 out of 10 points.\n",
        "\n",
        "def prepare(g):\n",
        "    for c in every_cell_contains_at_least_one_digit():\n",
        "        g.add_clause(c)\n",
        "\n",
        "with Glucose3() as g:\n",
        "    prepare(g)\n",
        "    # This can be solved.\n",
        "    check_equal(g.solve(), True)\n",
        "    for d in range(1, 10):\n",
        "        # These clauses state that no digit appears at 4, 5.\n",
        "        # You can change the coordinates if you like.\n",
        "        g.add_clause([-encode_variable(d, 4, 5)])\n",
        "    check_equal(g.solve(), False)\n",
        "\n"
      ]
    },
    {
      "cell_type": "markdown",
      "metadata": {
        "deletable": false,
        "editable": false,
        "id": "NGN2dubNIQ3n",
        "nbgrader": {
          "checksum": null,
          "grade": false,
          "grade_id": "cell-f49a6c58fad3212b",
          "locked": true,
          "schema_version": 3,
          "solution": false
        }
      },
      "source": [
        "### 2. Cells contain at most one digit\n",
        "\n",
        "Next, we need to express the fact that each cell can contain at most one digit $d$.\n",
        "The idea is to write clauses that say that if a cell $i,j$ contains a digit $d$, it does not contain a different digit $d'$.\n",
        "This is expressed by $p_{dij} \\rightarrow \\bar{p}_{d'ij}$ for all $0 \\leq i, j \\leq 8$ and all $1 \\leq d, d' \\leq 9$ with $d \\neq d'$.  In turn, the implication $p_{dij} \\rightarrow \\bar{p}_{d'ij}$ can be expressed as the clause\n",
        "\n",
        "$$\n",
        "[\\bar{p}_{dij}, \\bar{p}_{d'ij}] \\; ,\n",
        "$$\n",
        "\n",
        "for all $0 \\leq i, j \\leq 8$ and all $1 \\leq d, d' \\leq 9$ with $d \\neq d'$.\n",
        "The clause says that either $d$ is not at $i,j$, or $d'$ is not at $i,j$: this ensures that $d, d'$ are not both at $i, j$.\n"
      ]
    },
    {
      "cell_type": "code",
      "execution_count": null,
      "metadata": {
        "deletable": false,
        "id": "gDhkYEGaIQ3n",
        "nbgrader": {
          "checksum": null,
          "grade": false,
          "grade_id": "cell-4bbe3f0626ade2c8",
          "locked": false,
          "schema_version": 3,
          "solution": true
        }
      },
      "outputs": [],
      "source": [
        "def every_cell_contains_at_most_one_digit():\n",
        "    \"\"\"Returns a list of clauses, stating that every cell contains\n",
        "    at most one digit.\"\"\"\n",
        "    # YOUR CODE HERE\n",
        "    clause = []\n",
        "    for r in range(9):\n",
        "      for c in range(9):\n",
        "        for num1 in range(1,10):\n",
        "          for num2 in range(1,10):\n",
        "            if num1!=num2:\n",
        "              clause.append([-encode_variable(num1,r,c), -encode_variable(num2,r,c)])\n",
        "    return clause"
      ]
    },
    {
      "cell_type": "markdown",
      "metadata": {
        "deletable": false,
        "editable": false,
        "id": "--BOW6ymIQ3o",
        "nbgrader": {
          "checksum": null,
          "grade": false,
          "grade_id": "cell-d77875fbba9b7086",
          "locked": true,
          "schema_version": 3,
          "solution": false
        }
      },
      "source": [
        "We test this again with the help of a SAT solver."
      ]
    },
    {
      "cell_type": "code",
      "execution_count": null,
      "metadata": {
        "deletable": false,
        "editable": false,
        "id": "YvqPFK0YIQ3o",
        "nbgrader": {
          "checksum": null,
          "grade": true,
          "grade_id": "cell-a71eb0e7a8e11a4e",
          "locked": true,
          "points": 10,
          "schema_version": 3,
          "solution": false
        }
      },
      "outputs": [],
      "source": [
        "### For this question, you received 10 out of 10 points.\n",
        "\n",
        "def prepare(g):\n",
        "    for c in every_cell_contains_at_most_one_digit():\n",
        "        g.add_clause(c)\n",
        "\n",
        "with Glucose3() as g:\n",
        "    prepare(g)\n",
        "    check_equal(g.solve(), True)\n",
        "    # This states that both 3 and 4 appear at position 6, 7.\n",
        "    g.add_clause([encode_variable(3, 6, 7)])\n",
        "    g.add_clause([encode_variable(4, 6, 7)])\n",
        "    check_equal(g.solve(), False)\n",
        "\n"
      ]
    },
    {
      "cell_type": "markdown",
      "metadata": {
        "deletable": false,
        "editable": false,
        "id": "23lCRdyTIQ3p",
        "nbgrader": {
          "checksum": null,
          "grade": false,
          "grade_id": "cell-bf61e1a5f04a86fc",
          "locked": true,
          "schema_version": 3,
          "solution": false
        }
      },
      "source": [
        "### 3. No identical digits in the same row\n",
        "\n",
        "We now need to experss one of the basic rules of Sudoku: a digit can appear in only one cell along a row.\n",
        "Precisely, for all rows $0 \\leq i \\leq 8$, and all digits $1 \\leq d \\leq 9$, we write\n",
        "\n",
        "$$\n",
        "    p_{dij} \\rightarrow \\bar{p}_{dij'}\n",
        "$$\n",
        "\n",
        "for all $0 \\leq j, j' \\leq 8$ with $j \\neq j'$.\n",
        "These implications stipulate that if digit $d$ is at position $j$ in the row, it cannot also be in position $j'$ with $j' \\neq j$.\n",
        "These implications can be translated into clauses with two literals, exactly as we did in point 2 above."
      ]
    },
    {
      "cell_type": "code",
      "execution_count": null,
      "metadata": {
        "deletable": false,
        "id": "tY7WxEdVIQ3q",
        "nbgrader": {
          "checksum": null,
          "grade": false,
          "grade_id": "cell-3661f594537702c3",
          "locked": false,
          "schema_version": 3,
          "solution": true
        }
      },
      "outputs": [],
      "source": [
        "def no_identical_digits_in_same_row():\n",
        "    \"\"\"Returns a list of clauses, stating that if a digit appears\n",
        "    in a cell, the same digit cannot appear elsewhere in the\n",
        "    same row, column, or 3x3 square.\"\"\"\n",
        "    # YOUR CODE HERE\n",
        "    clause = []\n",
        "    for row in range(9):\n",
        "      for col1 in range(9):\n",
        "        for col2 in range(9):\n",
        "          if col1 != col2:\n",
        "            for num in range(1, 10):\n",
        "              clause.append( [-encode_variable(num, row, col1), -encode_variable(num, row, col2)] )\n",
        "    return clause"
      ]
    },
    {
      "cell_type": "code",
      "execution_count": null,
      "metadata": {
        "deletable": false,
        "editable": false,
        "id": "oYuDl81TIQ3q",
        "nbgrader": {
          "checksum": null,
          "grade": true,
          "grade_id": "cell-2b7a0c6e0260620",
          "locked": true,
          "points": 10,
          "schema_version": 3,
          "solution": false
        }
      },
      "outputs": [],
      "source": [
        "### For this question, you received 10 out of 10 points.\n",
        "\n",
        "def prepare(g):\n",
        "    for c in no_identical_digits_in_same_row():\n",
        "        g.add_clause(c)\n",
        "\n",
        "with Glucose3() as g:\n",
        "    prepare(g)\n",
        "    check_equal(g.solve(), True)\n",
        "    # This states that 3 appears twice in row 5.\n",
        "    g.add_clause([encode_variable(3, 5, 7)])\n",
        "    g.add_clause([encode_variable(3, 5, 8)])\n",
        "    check_equal(g.solve(), False)\n",
        "\n",
        "# But columns are not forbidden.\n",
        "with Glucose3() as g:\n",
        "    prepare(g)\n",
        "    g.add_clause([encode_variable(3, 5, 7)])\n",
        "    g.add_clause([encode_variable(3, 2, 7)])\n",
        "    check_equal(g.solve(), True)\n",
        "\n"
      ]
    },
    {
      "cell_type": "markdown",
      "metadata": {
        "deletable": false,
        "editable": false,
        "id": "4SeEZQ6BIQ3q",
        "nbgrader": {
          "checksum": null,
          "grade": false,
          "grade_id": "cell-13103cd9330f5938",
          "locked": true,
          "schema_version": 3,
          "solution": false
        }
      },
      "source": [
        "### 4. No identical digits in the same column\n",
        "\n",
        "This is a similar idea to the above, but for columns."
      ]
    },
    {
      "cell_type": "code",
      "execution_count": null,
      "metadata": {
        "deletable": false,
        "id": "Ak5EPb-yIQ3r",
        "nbgrader": {
          "checksum": null,
          "grade": false,
          "grade_id": "cell-7d68063ed4ea5cce",
          "locked": false,
          "schema_version": 3,
          "solution": true
        }
      },
      "outputs": [],
      "source": [
        "def no_identical_digits_in_same_column():\n",
        "    \"\"\"Returns a list of clauses, stating that if a digit appears\n",
        "    in a cell, the same digit cannot appear elsewhere in the\n",
        "    same row, column, or 3x3 square.\"\"\"\n",
        "    # YOUR CODE HERE\n",
        "    cluase = []\n",
        "    for num in range(1, 10):\n",
        "      for row1 in range(9):\n",
        "        for row2 in range(9):\n",
        "          if row1 != row2:\n",
        "            for col in range(9):\n",
        "              cluase.append([-encode_variable(num, row1, col), -encode_variable(num, row2, col)])\n",
        "    return cluase"
      ]
    },
    {
      "cell_type": "code",
      "execution_count": null,
      "metadata": {
        "deletable": false,
        "editable": false,
        "id": "RKbvo61WIQ3r",
        "nbgrader": {
          "checksum": null,
          "grade": true,
          "grade_id": "cell-45a5de0b8721a2ce",
          "locked": true,
          "points": 10,
          "schema_version": 3,
          "solution": false
        }
      },
      "outputs": [],
      "source": [
        "### For this question, you received 10 out of 10 points.\n",
        "\n",
        "def prepare(g):\n",
        "    for c in no_identical_digits_in_same_column():\n",
        "        g.add_clause(c)\n",
        "\n",
        "with Glucose3() as g:\n",
        "    prepare(g)\n",
        "    check_equal(g.solve(), True)\n",
        "    # This states that 3 appears twice in column 7.\n",
        "    g.add_clause([encode_variable(3, 5, 7)])\n",
        "    g.add_clause([encode_variable(3, 2, 7)])\n",
        "    check_equal(g.solve(), False)\n",
        "\n",
        "# But rows are not forbidden.\n",
        "with Glucose3() as g:\n",
        "    prepare(g)\n",
        "    g.add_clause([encode_variable(3, 5, 7)])\n",
        "    g.add_clause([encode_variable(3, 5, 8)])\n",
        "    check_equal(g.solve(), True)\n",
        "\n"
      ]
    },
    {
      "cell_type": "markdown",
      "metadata": {
        "deletable": false,
        "editable": false,
        "id": "6BBvB5NsIQ3r",
        "nbgrader": {
          "checksum": null,
          "grade": false,
          "grade_id": "cell-9550d4da141adc11",
          "locked": true,
          "schema_version": 3,
          "solution": false
        }
      },
      "source": [
        "### 5. No identical digits in the same 3x3 block.\n",
        "\n",
        "The idea here is to state that if a digit $d$ appears at a position $i,j$ in a 3x3 Sudoku block, it does not appear in any other position $i',j'$ in the same 3x3 block, with $i \\neq i'$ or $j \\neq j'$."
      ]
    },
    {
      "cell_type": "code",
      "execution_count": null,
      "metadata": {
        "deletable": false,
        "id": "M-6ceTT2IQ3s",
        "nbgrader": {
          "checksum": null,
          "grade": false,
          "grade_id": "cell-ee5be92ff3738af3",
          "locked": false,
          "schema_version": 3,
          "solution": true
        }
      },
      "outputs": [],
      "source": [
        "def no_identical_digits_in_same_block():\n",
        "    \"\"\"Returns a list of clauses, stating that if a digit appears\n",
        "    in a cell, the same digit cannot appear elsewhere in the\n",
        "    same row, column, or 3x3 square.\"\"\"\n",
        "    # YOUR CODE HERE\n",
        "    clause = []\n",
        "    for num in range(1,9):\n",
        "      for row in range(0,9,3):\n",
        "        for col in range(0,9,3):\n",
        "          for row1 in range(row,row+3):\n",
        "            for row2 in range(row,row+3):\n",
        "              for col1 in range(col,col+3):\n",
        "                for col2 in range(col,col+3):\n",
        "                  if row1!=row2 or col1!=col2:\n",
        "                    clause.append([-encode_variable(num,row1,col1),-encode_variable(num,row2,col2)])\n",
        "    return clause\n"
      ]
    },
    {
      "cell_type": "code",
      "execution_count": null,
      "metadata": {
        "deletable": false,
        "editable": false,
        "id": "6eIKFTvrIQ3s",
        "nbgrader": {
          "checksum": null,
          "grade": true,
          "grade_id": "cell-fb94c1c4bc94f034",
          "locked": true,
          "points": 10,
          "schema_version": 3,
          "solution": false
        }
      },
      "outputs": [],
      "source": [
        "### For this question, you received 10 out of 10 points.\n",
        "\n",
        "def prepare(g):\n",
        "    for c in no_identical_digits_in_same_block():\n",
        "        g.add_clause(c)\n",
        "\n",
        "with Glucose3() as g:\n",
        "    prepare(g)\n",
        "    check_equal(g.solve(), True)\n",
        "    # This states that 3 appears twice in top block\n",
        "    g.add_clause([encode_variable(3, 1, 1)])\n",
        "    g.add_clause([encode_variable(3, 1, 2)])\n",
        "    check_equal(g.solve(), False)\n",
        "\n",
        "# One more test.\n",
        "with Glucose3() as g:\n",
        "    prepare(g)\n",
        "    g.add_clause([encode_variable(3, 1, 1)])\n",
        "    g.add_clause([encode_variable(3, 2, 1)])\n",
        "    check_equal(g.solve(), False)\n",
        "\n",
        "# But different blocks are not forbidden.\n",
        "with Glucose3() as g:\n",
        "    prepare(g)\n",
        "    g.add_clause([encode_variable(3, 1, 1)])\n",
        "    g.add_clause([encode_variable(3, 5, 8)])\n",
        "    check_equal(g.solve(), True)\n",
        "\n"
      ]
    },
    {
      "cell_type": "markdown",
      "metadata": {
        "deletable": false,
        "editable": false,
        "id": "VFB5i4yzIQ3s",
        "nbgrader": {
          "checksum": null,
          "grade": false,
          "grade_id": "cell-2413c1dc3e208024",
          "locked": true,
          "schema_version": 3,
          "solution": false
        }
      },
      "source": [
        "### Putting it all together: the rules of Sudoku.\n",
        "\n",
        "We put this all together into a function that creates the rules for Sudoku, in SAT notation."
      ]
    },
    {
      "cell_type": "code",
      "execution_count": null,
      "metadata": {
        "deletable": false,
        "editable": false,
        "id": "9F_1M1f_IQ3s",
        "nbgrader": {
          "checksum": null,
          "grade": false,
          "grade_id": "cell-e3c70245bb6b5e35",
          "locked": true,
          "schema_version": 3,
          "solution": false
        }
      },
      "outputs": [],
      "source": [
        "def sudoku_rules():\n",
        "    clauses = []\n",
        "    clauses.extend(every_cell_contains_at_least_one_digit())\n",
        "    clauses.extend(every_cell_contains_at_most_one_digit())\n",
        "    clauses.extend(no_identical_digits_in_same_row())\n",
        "    clauses.extend(no_identical_digits_in_same_column())\n",
        "    clauses.extend(no_identical_digits_in_same_block())\n",
        "    return clauses\n"
      ]
    },
    {
      "cell_type": "markdown",
      "metadata": {
        "deletable": false,
        "editable": false,
        "id": "bl8MueV2IQ3t",
        "nbgrader": {
          "checksum": null,
          "grade": false,
          "grade_id": "cell-72dc73e4912c5f44",
          "locked": true,
          "schema_version": 3,
          "solution": false
        }
      },
      "source": [
        "And if we solve this, we have created a Sudoku problem!"
      ]
    },
    {
      "cell_type": "code",
      "execution_count": null,
      "metadata": {
        "deletable": false,
        "editable": false,
        "id": "edvyb1RXIQ3t",
        "nbgrader": {
          "checksum": null,
          "grade": true,
          "grade_id": "cell-8e37658cb1b6d8c2",
          "locked": true,
          "points": 10,
          "schema_version": 3,
          "solution": false
        }
      },
      "outputs": [],
      "source": [
        "### For this question, you received 10 out of 10 points.\n",
        "\n",
        "with Glucose3() as g:\n",
        "    for c in sudoku_rules():\n",
        "        g.add_clause(c)\n",
        "    check_equal(g.solve(), True)\n",
        "\n"
      ]
    },
    {
      "cell_type": "markdown",
      "metadata": {
        "deletable": false,
        "editable": false,
        "id": "c2-ocNvQIQ3u",
        "nbgrader": {
          "checksum": null,
          "grade": false,
          "grade_id": "cell-a48d24425ff9ebaa",
          "locked": true,
          "schema_version": 3,
          "solution": false
        }
      },
      "source": [
        "If the test above does not pass, comment out some of the lines in the `sudoku_rules` function.  Try to determine which sets of clauses make the Sudoku rules unsolvable."
      ]
    },
    {
      "cell_type": "markdown",
      "metadata": {
        "deletable": false,
        "editable": false,
        "id": "Gy_9cVEFIQ3u",
        "nbgrader": {
          "checksum": null,
          "grade": false,
          "grade_id": "cell-a58ab448a8c95810",
          "locked": true,
          "schema_version": 3,
          "solution": false
        }
      },
      "source": [
        "### Translating the initial state of the board into clauses\n",
        "\n",
        "We now need to translate the intial state of the board into clauses.  This is easy to do: whenever the board contains a (known) digit $d$ in position $i,j$, you generate a clause\n",
        "\n",
        "$$\n",
        "[p_{dij}]\n",
        "$$\n",
        "\n",
        "stating that $d$ is in position $i,j$.  That's all!\n",
        "We let you do implement this via a method `_board_to_SAT` of `SudokuViaSAT`, which returns the list of such unary clauses."
      ]
    },
    {
      "cell_type": "code",
      "execution_count": null,
      "metadata": {
        "deletable": false,
        "id": "G0pOx4r8IQ3v",
        "nbgrader": {
          "checksum": null,
          "grade": false,
          "grade_id": "cell-7f51ce1d097eae09",
          "locked": false,
          "schema_version": 3,
          "solution": true
        },
        "outputId": "04cc5ef9-678f-49f2-83f6-078201e3b102"
      },
      "outputs": [
        {
          "ename": "NameError",
          "evalue": "name 'SudokuViaSAT' is not defined",
          "output_type": "error",
          "traceback": [
            "\u001b[0;31m---------------------------------------------------------------------------\u001b[0m",
            "\u001b[0;31mNameError\u001b[0m                                 Traceback (most recent call last)",
            "\u001b[0;32m<ipython-input-25-db4a0c1c34b3>\u001b[0m in \u001b[0;36m<module>\u001b[0;34m\u001b[0m\n\u001b[1;32m     11\u001b[0m           \u001b[0mclause\u001b[0m\u001b[0;34m.\u001b[0m\u001b[0mappend\u001b[0m\u001b[0;34m(\u001b[0m\u001b[0;34m[\u001b[0m\u001b[0mencode_variable\u001b[0m\u001b[0;34m(\u001b[0m\u001b[0mself\u001b[0m\u001b[0;34m.\u001b[0m\u001b[0mboard\u001b[0m\u001b[0;34m[\u001b[0m\u001b[0mrow\u001b[0m\u001b[0;34m]\u001b[0m\u001b[0;34m[\u001b[0m\u001b[0mcol\u001b[0m\u001b[0;34m]\u001b[0m\u001b[0;34m,\u001b[0m\u001b[0mrow\u001b[0m\u001b[0;34m,\u001b[0m\u001b[0mcol\u001b[0m\u001b[0;34m)\u001b[0m\u001b[0;34m]\u001b[0m\u001b[0;34m)\u001b[0m\u001b[0;34m\u001b[0m\u001b[0;34m\u001b[0m\u001b[0m\n\u001b[1;32m     12\u001b[0m     \u001b[0;32mreturn\u001b[0m \u001b[0mclause\u001b[0m\u001b[0;34m\u001b[0m\u001b[0;34m\u001b[0m\u001b[0m\n\u001b[0;32m---> 13\u001b[0;31m \u001b[0mSudokuViaSAT\u001b[0m\u001b[0;34m.\u001b[0m\u001b[0m_board_to_SAT\u001b[0m \u001b[0;34m=\u001b[0m \u001b[0m_board_to_SAT\u001b[0m\u001b[0;34m\u001b[0m\u001b[0;34m\u001b[0m\u001b[0m\n\u001b[0m",
            "\u001b[0;31mNameError\u001b[0m: name 'SudokuViaSAT' is not defined"
          ]
        }
      ],
      "source": [
        "def _board_to_SAT(self):\n",
        "    \"\"\"Translates the currently known state of the board into a list of SAT\n",
        "    clauses.  Each clause has only one literal, and expresses the fact that a\n",
        "    given digit is in a given position.  The method returns the list of clauses\n",
        "    corresponding to all the initially known Sudoku digits.\"\"\"\n",
        "    # YOUR CODE HERE\n",
        "    clause = []\n",
        "    for row in range(9):\n",
        "      for col in range(9):\n",
        "        if self.board[row][col]!= 0:\n",
        "          clause.append([encode_variable(self.board[row][col],row,col)])\n",
        "    return clause\n",
        "SudokuViaSAT._board_to_SAT = _board_to_SAT\n"
      ]
    },
    {
      "cell_type": "markdown",
      "metadata": {
        "deletable": false,
        "editable": false,
        "id": "yueTPo-UIQ3v",
        "nbgrader": {
          "checksum": null,
          "grade": false,
          "grade_id": "cell-6383043fb2d55ac3",
          "locked": true,
          "schema_version": 3,
          "solution": false
        }
      },
      "source": [
        "Let us test this."
      ]
    },
    {
      "cell_type": "code",
      "execution_count": null,
      "metadata": {
        "colab": {
          "base_uri": "https://localhost:8080/"
        },
        "deletable": false,
        "editable": false,
        "id": "8bnQ4UEHIQ3w",
        "nbgrader": {
          "checksum": null,
          "grade": true,
          "grade_id": "cell-71405cb1905e8231",
          "locked": true,
          "points": 10,
          "schema_version": 3,
          "solution": false
        },
        "outputId": "8b951501-e1ab-4501-dfca-690eabbe4a14"
      },
      "outputs": [
        {
          "ename": "NameError",
          "evalue": "name 'SudokuViaSAT' is not defined",
          "output_type": "error",
          "traceback": [
            "\u001b[0;31m---------------------------------------------------------------------------\u001b[0m",
            "\u001b[0;31mNameError\u001b[0m                                 Traceback (most recent call last)",
            "\u001b[0;32m<ipython-input-26-ae65be0388c3>\u001b[0m in \u001b[0;36m<module>\u001b[0;34m\u001b[0m\n\u001b[1;32m      1\u001b[0m \u001b[0mproblem\u001b[0m \u001b[0;34m=\u001b[0m \u001b[0;34m\"000000061350000000400050000020000800000601000000700000000080200600400000007000010\"\u001b[0m\u001b[0;34m\u001b[0m\u001b[0;34m\u001b[0m\u001b[0m\n\u001b[0;32m----> 2\u001b[0;31m \u001b[0msd\u001b[0m \u001b[0;34m=\u001b[0m \u001b[0mSudokuViaSAT\u001b[0m\u001b[0;34m(\u001b[0m\u001b[0mproblem\u001b[0m\u001b[0;34m)\u001b[0m\u001b[0;34m\u001b[0m\u001b[0;34m\u001b[0m\u001b[0m\n\u001b[0m\u001b[1;32m      3\u001b[0m \u001b[0msd\u001b[0m\u001b[0;34m.\u001b[0m\u001b[0mshow\u001b[0m\u001b[0;34m(\u001b[0m\u001b[0;34m)\u001b[0m\u001b[0;34m\u001b[0m\u001b[0;34m\u001b[0m\u001b[0m\n\u001b[1;32m      4\u001b[0m \u001b[0mclauses\u001b[0m \u001b[0;34m=\u001b[0m \u001b[0msd\u001b[0m\u001b[0;34m.\u001b[0m\u001b[0m_board_to_SAT\u001b[0m\u001b[0;34m(\u001b[0m\u001b[0;34m)\u001b[0m\u001b[0;34m\u001b[0m\u001b[0;34m\u001b[0m\u001b[0m\n\u001b[1;32m      5\u001b[0m \u001b[0mcheck_equal\u001b[0m\u001b[0;34m(\u001b[0m\u001b[0mlen\u001b[0m\u001b[0;34m(\u001b[0m\u001b[0mclauses\u001b[0m\u001b[0;34m)\u001b[0m\u001b[0;34m,\u001b[0m \u001b[0;36m17\u001b[0m\u001b[0;34m)\u001b[0m\u001b[0;34m\u001b[0m\u001b[0;34m\u001b[0m\u001b[0m\n",
            "\u001b[0;31mNameError\u001b[0m: name 'SudokuViaSAT' is not defined"
          ]
        }
      ],
      "source": [
        "### For this question, you received 0 out of 10 points.\n",
        "\n",
        "problem = \"000000061350000000400050000020000800000601000000700000000080200600400000007000010\"\n",
        "sd = SudokuViaSAT(problem)\n",
        "sd.show()\n",
        "clauses = sd._board_to_SAT()\n",
        "check_equal(len(clauses), 17)\n",
        "check_equal([310] in clauses, True)\n",
        "check_equal([511] in clauses, True)\n",
        "check_equal([224] in clauses, False)\n",
        "\n",
        "# This should print the elements of the board.\n",
        "for c in sd._board_to_SAT():\n",
        "    print(c)\n",
        "\n"
      ]
    },
    {
      "cell_type": "markdown",
      "metadata": {
        "deletable": false,
        "editable": false,
        "id": "KDfS0PcmIQ3w",
        "nbgrader": {
          "checksum": null,
          "grade": false,
          "grade_id": "cell-5fa2c34e6bdb77a5",
          "locked": true,
          "schema_version": 3,
          "solution": false
        }
      },
      "source": [
        "## Translating Sudoku to SAT\n",
        "\n",
        "We now write a `_to_SAT` method for `SudokuViaSAT`, that translates a Sudoku problem into a list of SAT clauses, and returns the list of clauses.  The list contains:\n",
        "\n",
        "* all the clauses returned by the `sudoku_rules` function above,\n",
        "* all the clauses that represent the initial state of the board, returned by the `_board_to_SAT` method.  \n"
      ]
    },
    {
      "cell_type": "code",
      "execution_count": null,
      "metadata": {
        "deletable": false,
        "editable": false,
        "id": "SbwTJrdsIQ3w",
        "nbgrader": {
          "checksum": null,
          "grade": false,
          "grade_id": "cell-26255ba183078ac6",
          "locked": true,
          "schema_version": 3,
          "solution": false
        },
        "outputId": "6984fe2c-b5e2-4188-816b-cb03aec6d48a"
      },
      "outputs": [
        {
          "ename": "NameError",
          "evalue": "name 'SudokuViaSAT' is not defined",
          "output_type": "error",
          "traceback": [
            "\u001b[0;31m---------------------------------------------------------------------------\u001b[0m",
            "\u001b[0;31mNameError\u001b[0m                                 Traceback (most recent call last)",
            "\u001b[0;32m<ipython-input-27-da3b8ded1058>\u001b[0m in \u001b[0;36m<module>\u001b[0;34m\u001b[0m\n\u001b[1;32m      2\u001b[0m     \u001b[0;32mreturn\u001b[0m \u001b[0mlist\u001b[0m\u001b[0;34m(\u001b[0m\u001b[0msudoku_rules\u001b[0m\u001b[0;34m(\u001b[0m\u001b[0;34m)\u001b[0m\u001b[0;34m)\u001b[0m \u001b[0;34m+\u001b[0m \u001b[0mlist\u001b[0m\u001b[0;34m(\u001b[0m\u001b[0mself\u001b[0m\u001b[0;34m.\u001b[0m\u001b[0m_board_to_SAT\u001b[0m\u001b[0;34m(\u001b[0m\u001b[0;34m)\u001b[0m\u001b[0;34m)\u001b[0m\u001b[0;34m\u001b[0m\u001b[0;34m\u001b[0m\u001b[0m\n\u001b[1;32m      3\u001b[0m \u001b[0;34m\u001b[0m\u001b[0m\n\u001b[0;32m----> 4\u001b[0;31m \u001b[0mSudokuViaSAT\u001b[0m\u001b[0;34m.\u001b[0m\u001b[0m_to_SAT\u001b[0m \u001b[0;34m=\u001b[0m \u001b[0m_to_SAT\u001b[0m\u001b[0;34m\u001b[0m\u001b[0;34m\u001b[0m\u001b[0m\n\u001b[0m",
            "\u001b[0;31mNameError\u001b[0m: name 'SudokuViaSAT' is not defined"
          ]
        }
      ],
      "source": [
        "def _to_SAT(self):\n",
        "    return list(sudoku_rules()) + list(self._board_to_SAT())\n",
        "\n",
        "SudokuViaSAT._to_SAT = _to_SAT\n"
      ]
    },
    {
      "cell_type": "markdown",
      "metadata": {
        "deletable": false,
        "editable": false,
        "id": "IMwH_5L4IQ3x",
        "nbgrader": {
          "checksum": null,
          "grade": false,
          "grade_id": "cell-725ab817a51ee844",
          "locked": true,
          "schema_version": 3,
          "solution": false
        }
      },
      "source": [
        "Let's try if we can solve an instance of Sudoku via SAT."
      ]
    },
    {
      "cell_type": "code",
      "execution_count": null,
      "metadata": {
        "deletable": false,
        "editable": false,
        "id": "2nxz-MLSIQ3x",
        "nbgrader": {
          "checksum": null,
          "grade": true,
          "grade_id": "cell-58993fa9efe00553",
          "locked": true,
          "points": 10,
          "schema_version": 3,
          "solution": false
        },
        "outputId": "cabfadb8-82a8-4560-8723-e2ce74fd9e5d"
      },
      "outputs": [
        {
          "ename": "NameError",
          "evalue": "name 'SudokuViaSAT' is not defined",
          "output_type": "error",
          "traceback": [
            "\u001b[0;31m---------------------------------------------------------------------------\u001b[0m",
            "\u001b[0;31mNameError\u001b[0m                                 Traceback (most recent call last)",
            "\u001b[0;32m<ipython-input-28-8a310a39c76d>\u001b[0m in \u001b[0;36m<module>\u001b[0;34m\u001b[0m\n\u001b[1;32m      1\u001b[0m \u001b[0mproblem\u001b[0m \u001b[0;34m=\u001b[0m \u001b[0;34m\"000000061350000000400050000020000800000601000000700000000080200600400000007000010\"\u001b[0m\u001b[0;34m\u001b[0m\u001b[0;34m\u001b[0m\u001b[0m\n\u001b[0;32m----> 2\u001b[0;31m \u001b[0msd\u001b[0m \u001b[0;34m=\u001b[0m \u001b[0mSudokuViaSAT\u001b[0m\u001b[0;34m(\u001b[0m\u001b[0mproblem\u001b[0m\u001b[0;34m)\u001b[0m\u001b[0;34m\u001b[0m\u001b[0;34m\u001b[0m\u001b[0m\n\u001b[0m\u001b[1;32m      3\u001b[0m \u001b[0;32mwith\u001b[0m \u001b[0mGlucose3\u001b[0m\u001b[0;34m(\u001b[0m\u001b[0;34m)\u001b[0m \u001b[0;32mas\u001b[0m \u001b[0mg\u001b[0m\u001b[0;34m:\u001b[0m\u001b[0;34m\u001b[0m\u001b[0;34m\u001b[0m\u001b[0m\n\u001b[1;32m      4\u001b[0m     \u001b[0;32mfor\u001b[0m \u001b[0mc\u001b[0m \u001b[0;32min\u001b[0m \u001b[0msd\u001b[0m\u001b[0;34m.\u001b[0m\u001b[0m_to_SAT\u001b[0m\u001b[0;34m(\u001b[0m\u001b[0;34m)\u001b[0m\u001b[0;34m:\u001b[0m\u001b[0;34m\u001b[0m\u001b[0;34m\u001b[0m\u001b[0m\n\u001b[1;32m      5\u001b[0m         \u001b[0mg\u001b[0m\u001b[0;34m.\u001b[0m\u001b[0madd_clause\u001b[0m\u001b[0;34m(\u001b[0m\u001b[0mc\u001b[0m\u001b[0;34m)\u001b[0m\u001b[0;34m\u001b[0m\u001b[0;34m\u001b[0m\u001b[0m\n",
            "\u001b[0;31mNameError\u001b[0m: name 'SudokuViaSAT' is not defined"
          ]
        }
      ],
      "source": [
        "### For this question, you received 0 out of 10 points.\n",
        "\n",
        "problem = \"000000061350000000400050000020000800000601000000700000000080200600400000007000010\"\n",
        "sd = SudokuViaSAT(problem)\n",
        "with Glucose3() as g:\n",
        "    for c in sd._to_SAT():\n",
        "        g.add_clause(c)\n",
        "    check_equal(g.solve(), True)\n",
        "\n",
        "problem = \"000000061350000000404050000020000800000601000000700000000080200600400000007000010\"\n",
        "sd = SudokuViaSAT(problem)\n",
        "with Glucose3() as g:\n",
        "    for c in sd._to_SAT():\n",
        "        for j in c:\n",
        "            g.add_clause(c)\n",
        "    check_equal(g.solve(), False)\n",
        "\n"
      ]
    },
    {
      "cell_type": "markdown",
      "metadata": {
        "deletable": false,
        "editable": false,
        "id": "Q-OBnqjIIQ3x",
        "nbgrader": {
          "checksum": null,
          "grade": false,
          "grade_id": "cell-fddb8df216f103f2",
          "locked": true,
          "schema_version": 3,
          "solution": false
        }
      },
      "source": [
        "Indeed it works!"
      ]
    },
    {
      "cell_type": "markdown",
      "metadata": {
        "deletable": false,
        "editable": false,
        "id": "FRd-SE4TIQ3y",
        "nbgrader": {
          "checksum": null,
          "grade": false,
          "grade_id": "cell-b4114d2bfa61ab6",
          "locked": true,
          "schema_version": 3,
          "solution": false
        }
      },
      "source": [
        "## Writing a `solve` method for Sudoku"
      ]
    },
    {
      "cell_type": "markdown",
      "metadata": {
        "deletable": false,
        "editable": false,
        "id": "LJtBWneeIQ3y",
        "nbgrader": {
          "checksum": null,
          "grade": false,
          "grade_id": "cell-9d92f675f3e7a3e9",
          "locked": true,
          "schema_version": 3,
          "solution": false
        }
      },
      "source": [
        "It is time to put everything together in a `solve` method for `SudokuViaSAT`.  The method works as follows.  It takes as input one of the SAT solver classes, such as `Glucose3`, `Glucose4`, or `Minisat22`.  Then:\n",
        "\n",
        "* It uses the method `_to_SAT` to create the clauses for a SAT instance encoding the Sudoku problem.\n",
        "* It adds those clauses to the SAT solver.\n",
        "* It solves the SAT problem.\n",
        "* If the problem has a solution, it uses the solution of the SAT problem to complete the cell in the Sudoku board.\n",
        "\n",
        "For the last step, we can check that the problem has a solution via `g.solve()`, as in the test cases above.\n",
        "If the problem has a solution, `g.get_model()` gives us a truth assignment satisfying the SAT problem.\n",
        "Let us take a look at it."
      ]
    },
    {
      "cell_type": "code",
      "execution_count": null,
      "metadata": {
        "colab": {
          "base_uri": "https://localhost:8080/"
        },
        "deletable": false,
        "editable": false,
        "id": "LyArVRvaIQ3y",
        "nbgrader": {
          "checksum": null,
          "grade": false,
          "grade_id": "cell-aa019e2753b1a70e",
          "locked": true,
          "schema_version": 3,
          "solution": false
        },
        "outputId": "a2046676-bcce-4eec-f8e6-98208d9f6163"
      },
      "outputs": [
        {
          "ename": "NameError",
          "evalue": "name 'SudokuViaSAT' is not defined",
          "output_type": "error",
          "traceback": [
            "\u001b[0;31m---------------------------------------------------------------------------\u001b[0m",
            "\u001b[0;31mNameError\u001b[0m                                 Traceback (most recent call last)",
            "\u001b[0;32m<ipython-input-29-bdf7c36bedcc>\u001b[0m in \u001b[0;36m<module>\u001b[0;34m\u001b[0m\n\u001b[1;32m      1\u001b[0m \u001b[0mproblem\u001b[0m \u001b[0;34m=\u001b[0m \u001b[0;34m\"000000061350000000400050000020000800000601000000700000000080200600400000007000010\"\u001b[0m\u001b[0;34m\u001b[0m\u001b[0;34m\u001b[0m\u001b[0m\n\u001b[0;32m----> 2\u001b[0;31m \u001b[0msd\u001b[0m \u001b[0;34m=\u001b[0m \u001b[0mSudokuViaSAT\u001b[0m\u001b[0;34m(\u001b[0m\u001b[0mproblem\u001b[0m\u001b[0;34m)\u001b[0m\u001b[0;34m\u001b[0m\u001b[0;34m\u001b[0m\u001b[0m\n\u001b[0m\u001b[1;32m      3\u001b[0m \u001b[0;32mwith\u001b[0m \u001b[0mGlucose3\u001b[0m\u001b[0;34m(\u001b[0m\u001b[0;34m)\u001b[0m \u001b[0;32mas\u001b[0m \u001b[0mg\u001b[0m\u001b[0;34m:\u001b[0m\u001b[0;34m\u001b[0m\u001b[0;34m\u001b[0m\u001b[0m\n\u001b[1;32m      4\u001b[0m     \u001b[0;32mfor\u001b[0m \u001b[0mc\u001b[0m \u001b[0;32min\u001b[0m \u001b[0msd\u001b[0m\u001b[0;34m.\u001b[0m\u001b[0m_to_SAT\u001b[0m\u001b[0;34m(\u001b[0m\u001b[0;34m)\u001b[0m\u001b[0;34m:\u001b[0m\u001b[0;34m\u001b[0m\u001b[0;34m\u001b[0m\u001b[0m\n\u001b[1;32m      5\u001b[0m         \u001b[0mg\u001b[0m\u001b[0;34m.\u001b[0m\u001b[0madd_clause\u001b[0m\u001b[0;34m(\u001b[0m\u001b[0mc\u001b[0m\u001b[0;34m)\u001b[0m\u001b[0;34m\u001b[0m\u001b[0;34m\u001b[0m\u001b[0m\n",
            "\u001b[0;31mNameError\u001b[0m: name 'SudokuViaSAT' is not defined"
          ]
        }
      ],
      "source": [
        "problem = \"000000061350000000400050000020000800000601000000700000000080200600400000007000010\"\n",
        "sd = SudokuViaSAT(problem)\n",
        "with Glucose3() as g:\n",
        "    for c in sd._to_SAT():\n",
        "        g.add_clause(c)\n",
        "    check_equal(g.solve(), True)\n",
        "    # Let's get a truth assignment.\n",
        "    ps = g.get_model()\n",
        "    print(ps)\n"
      ]
    },
    {
      "cell_type": "markdown",
      "metadata": {
        "deletable": false,
        "editable": false,
        "id": "Q61VJx2pIQ3y",
        "nbgrader": {
          "checksum": null,
          "grade": false,
          "grade_id": "cell-fdfc49aca721c3c1",
          "locked": true,
          "schema_version": 3,
          "solution": false
        }
      },
      "source": [
        "This truth assignment contains:\n",
        "\n",
        "* Garbage.  For some odd reason, the SAT solvers want to give us truth assignments also to variables that are not part of any clause, such as 1, 2, 3, ... .\n",
        "* Negative literals, such as -456.  We really don't care to know that 4 cannot appear in cell 5,6.\n",
        "* Positive literals that can be interpreted via `decode_variable` (defined at the beginning).  These we use to completethe board.  For instance, if we get a literal 345 in the model, this means that 3 appears in cell 4, 5, and we can set `self.board[4, 5] = 3`.\n",
        "\n"
      ]
    },
    {
      "cell_type": "markdown",
      "metadata": {
        "deletable": false,
        "editable": false,
        "id": "ltwuqQ50IQ3y",
        "nbgrader": {
          "checksum": null,
          "grade": false,
          "grade_id": "cell-30d3c4a37fd2ab9c",
          "locked": true,
          "schema_version": 3,
          "solution": false
        }
      },
      "source": [
        "Let's take a look at the positive, interpretable literals:"
      ]
    },
    {
      "cell_type": "code",
      "execution_count": null,
      "metadata": {
        "colab": {
          "base_uri": "https://localhost:8080/"
        },
        "deletable": false,
        "editable": false,
        "id": "MIZQhDEGIQ3z",
        "nbgrader": {
          "checksum": null,
          "grade": false,
          "grade_id": "cell-95e4e787b4fc681c",
          "locked": true,
          "schema_version": 3,
          "solution": false
        },
        "outputId": "bbb96fb2-74b8-48dd-fdd2-62f01e72751b"
      },
      "outputs": [
        {
          "ename": "NameError",
          "evalue": "name 'ps' is not defined",
          "output_type": "error",
          "traceback": [
            "\u001b[0;31m---------------------------------------------------------------------------\u001b[0m",
            "\u001b[0;31mNameError\u001b[0m                                 Traceback (most recent call last)",
            "\u001b[0;32m<ipython-input-30-acaa6989b94b>\u001b[0m in \u001b[0;36m<module>\u001b[0;34m\u001b[0m\n\u001b[0;32m----> 1\u001b[0;31m \u001b[0;32mfor\u001b[0m \u001b[0ml\u001b[0m \u001b[0;32min\u001b[0m \u001b[0mps\u001b[0m\u001b[0;34m:\u001b[0m\u001b[0;34m\u001b[0m\u001b[0;34m\u001b[0m\u001b[0m\n\u001b[0m\u001b[1;32m      2\u001b[0m     \u001b[0;32mif\u001b[0m \u001b[0ml\u001b[0m \u001b[0;34m>\u001b[0m \u001b[0;36m0\u001b[0m \u001b[0;32mand\u001b[0m \u001b[0mdecode_variable\u001b[0m\u001b[0;34m(\u001b[0m\u001b[0ml\u001b[0m\u001b[0;34m)\u001b[0m \u001b[0;32mis\u001b[0m \u001b[0;32mnot\u001b[0m \u001b[0;32mNone\u001b[0m\u001b[0;34m:\u001b[0m\u001b[0;34m\u001b[0m\u001b[0;34m\u001b[0m\u001b[0m\n\u001b[1;32m      3\u001b[0m         \u001b[0mprint\u001b[0m\u001b[0;34m(\u001b[0m\u001b[0mdecode_variable\u001b[0m\u001b[0;34m(\u001b[0m\u001b[0ml\u001b[0m\u001b[0;34m)\u001b[0m\u001b[0;34m)\u001b[0m\u001b[0;34m\u001b[0m\u001b[0;34m\u001b[0m\u001b[0m\n",
            "\u001b[0;31mNameError\u001b[0m: name 'ps' is not defined"
          ]
        }
      ],
      "source": [
        "for l in ps:\n",
        "    if l > 0 and decode_variable(l) is not None:\n",
        "        print(decode_variable(l))\n"
      ]
    },
    {
      "cell_type": "markdown",
      "metadata": {
        "deletable": false,
        "editable": false,
        "id": "L10JBDjnIQ3z",
        "nbgrader": {
          "checksum": null,
          "grade": false,
          "grade_id": "cell-bc4f190c5dba9f7e",
          "locked": true,
          "schema_version": 3,
          "solution": false
        }
      },
      "source": [
        "Aha! This looks very good! as you can see from the end, there are 9 tuples beginning with 9; these are exactly the location of the digits \"9\" in the Sudoku.\n",
        "Thus, the model of the SAT solver enables us to directly fill the Sudoku board.  We let you implement the `solve` method."
      ]
    },
    {
      "cell_type": "code",
      "execution_count": null,
      "metadata": {
        "deletable": false,
        "id": "Ra_AwfxFIQ3z",
        "nbgrader": {
          "checksum": null,
          "grade": false,
          "grade_id": "cell-253b68dd1f1b64c7",
          "locked": false,
          "schema_version": 3,
          "solution": true
        },
        "outputId": "b06acb25-6402-455e-90de-93d461c435de"
      },
      "outputs": [
        {
          "ename": "NameError",
          "evalue": "name 'SudokuViaSAT' is not defined",
          "output_type": "error",
          "traceback": [
            "\u001b[0;31m---------------------------------------------------------------------------\u001b[0m",
            "\u001b[0;31mNameError\u001b[0m                                 Traceback (most recent call last)",
            "\u001b[0;32m<ipython-input-31-afa656bc2404>\u001b[0m in \u001b[0;36m<module>\u001b[0;34m\u001b[0m\n\u001b[1;32m     19\u001b[0m             \u001b[0mself\u001b[0m\u001b[0;34m.\u001b[0m\u001b[0mboard\u001b[0m\u001b[0;34m[\u001b[0m\u001b[0mi\u001b[0m\u001b[0;34m]\u001b[0m\u001b[0;34m[\u001b[0m\u001b[0mj\u001b[0m\u001b[0;34m]\u001b[0m\u001b[0;34m=\u001b[0m\u001b[0md\u001b[0m\u001b[0;34m\u001b[0m\u001b[0;34m\u001b[0m\u001b[0m\n\u001b[1;32m     20\u001b[0m         \u001b[0;32mreturn\u001b[0m \u001b[0;32mTrue\u001b[0m\u001b[0;34m\u001b[0m\u001b[0;34m\u001b[0m\u001b[0m\n\u001b[0;32m---> 21\u001b[0;31m \u001b[0mSudokuViaSAT\u001b[0m\u001b[0;34m.\u001b[0m\u001b[0msolve\u001b[0m \u001b[0;34m=\u001b[0m \u001b[0msolve\u001b[0m\u001b[0;34m\u001b[0m\u001b[0;34m\u001b[0m\u001b[0m\n\u001b[0m",
            "\u001b[0;31mNameError\u001b[0m: name 'SudokuViaSAT' is not defined"
          ]
        }
      ],
      "source": [
        "def solve(self, Solver):\n",
        "    \"\"\"Solves the Sudoku instance using the given SAT solver\n",
        "    (e.g., Glucose3, Minisat22).\n",
        "    @param Solver: a solver, such as Glucose3, Minisat22.\n",
        "    @returns: False, if the Sudoku problem is not solvable, and True, if it is.\n",
        "        In the latter case, the solve method also completes self.board,\n",
        "        using the solution of SAT to complete the board.\"\"\"\n",
        "    # YOUR CODE HERE\n",
        "    with Solver() as g:\n",
        "      for c in self._to_SAT():\n",
        "        g.add_clause(c)\n",
        "      if not g.solve():\n",
        "        return False\n",
        "      else:\n",
        "        s = g.get_model()\n",
        "        for x in s:\n",
        "          if x>0 and decode_variable(x) is not None:\n",
        "            d,i,j=decode_variable(x)\n",
        "            self.board[i][j]=d\n",
        "        return True\n",
        "SudokuViaSAT.solve = solve\n"
      ]
    },
    {
      "cell_type": "markdown",
      "metadata": {
        "deletable": false,
        "editable": false,
        "id": "SIkJabGhIQ3z",
        "nbgrader": {
          "checksum": null,
          "grade": false,
          "grade_id": "cell-48d84065eec8a53e",
          "locked": true,
          "schema_version": 3,
          "solution": false
        }
      },
      "source": [
        "Let's try solving a Sudoku end-to-end."
      ]
    },
    {
      "cell_type": "code",
      "execution_count": null,
      "metadata": {
        "colab": {
          "base_uri": "https://localhost:8080/"
        },
        "deletable": false,
        "editable": false,
        "id": "IAuOOM19IQ30",
        "nbgrader": {
          "checksum": null,
          "grade": false,
          "grade_id": "cell-2e0f815cdd7b25e1",
          "locked": true,
          "schema_version": 3,
          "solution": false
        },
        "outputId": "d9a1a7b7-cf69-4a24-9408-ad54fe7d27c9"
      },
      "outputs": [
        {
          "ename": "NameError",
          "evalue": "name 'SudokuViaSAT' is not defined",
          "output_type": "error",
          "traceback": [
            "\u001b[0;31m---------------------------------------------------------------------------\u001b[0m",
            "\u001b[0;31mNameError\u001b[0m                                 Traceback (most recent call last)",
            "\u001b[0;32m<ipython-input-32-9c11f8b5ccd5>\u001b[0m in \u001b[0;36m<module>\u001b[0;34m\u001b[0m\n\u001b[1;32m      1\u001b[0m \u001b[0mproblem\u001b[0m \u001b[0;34m=\u001b[0m \u001b[0;34m\"000000061350000000400050000020000800000601000000700000000080200600400000007000010\"\u001b[0m\u001b[0;34m\u001b[0m\u001b[0;34m\u001b[0m\u001b[0m\n\u001b[0;32m----> 2\u001b[0;31m \u001b[0msd\u001b[0m \u001b[0;34m=\u001b[0m \u001b[0mSudokuViaSAT\u001b[0m\u001b[0;34m(\u001b[0m\u001b[0mproblem\u001b[0m\u001b[0;34m)\u001b[0m\u001b[0;34m\u001b[0m\u001b[0;34m\u001b[0m\u001b[0m\n\u001b[0m\u001b[1;32m      3\u001b[0m \u001b[0msd\u001b[0m\u001b[0;34m.\u001b[0m\u001b[0mshow\u001b[0m\u001b[0;34m(\u001b[0m\u001b[0;34m)\u001b[0m\u001b[0;34m\u001b[0m\u001b[0;34m\u001b[0m\u001b[0m\n\u001b[1;32m      4\u001b[0m \u001b[0msd\u001b[0m\u001b[0;34m.\u001b[0m\u001b[0msolve\u001b[0m\u001b[0;34m(\u001b[0m\u001b[0mGlucose3\u001b[0m\u001b[0;34m)\u001b[0m\u001b[0;34m\u001b[0m\u001b[0;34m\u001b[0m\u001b[0m\n\u001b[1;32m      5\u001b[0m \u001b[0msd\u001b[0m\u001b[0;34m.\u001b[0m\u001b[0mshow\u001b[0m\u001b[0;34m(\u001b[0m\u001b[0;34m)\u001b[0m\u001b[0;34m\u001b[0m\u001b[0;34m\u001b[0m\u001b[0m\n",
            "\u001b[0;31mNameError\u001b[0m: name 'SudokuViaSAT' is not defined"
          ]
        }
      ],
      "source": [
        "problem = \"000000061350000000400050000020000800000601000000700000000080200600400000007000010\"\n",
        "sd = SudokuViaSAT(problem)\n",
        "sd.show()\n",
        "sd.solve(Glucose3)\n",
        "sd.show()\n"
      ]
    },
    {
      "cell_type": "markdown",
      "metadata": {
        "deletable": false,
        "editable": false,
        "id": "wp62MQs7IQ30",
        "nbgrader": {
          "checksum": null,
          "grade": false,
          "grade_id": "cell-3c3c59f78b36f34a",
          "locked": true,
          "schema_version": 3,
          "solution": false
        }
      },
      "source": [
        "This is quite wonderful!  Let us write a check that a solved Sudoku satisfies all rules of Sudoku, and is equal to a given problem in the specified cells."
      ]
    },
    {
      "cell_type": "code",
      "execution_count": null,
      "metadata": {
        "deletable": false,
        "editable": false,
        "id": "vEp646KeIQ30",
        "nbgrader": {
          "checksum": null,
          "grade": false,
          "grade_id": "cell-90060ad1ad571fd8",
          "locked": true,
          "schema_version": 3,
          "solution": false
        }
      },
      "outputs": [],
      "source": [
        "def verify_solution(Solver, sudoku_string):\n",
        "    sd = SudokuViaSAT(sudoku_string)\n",
        "    sd.solve(Solver)\n",
        "    # Check that we leave alone the original assignment.\n",
        "    for i in range(9):\n",
        "        for j in range(9):\n",
        "            d = int(sudoku_string[i * 9 + j])\n",
        "            if d > 0:\n",
        "                assert sd.board[i, j] == d\n",
        "    # Check that there is a digit in every cell.\n",
        "    for i in range(9):\n",
        "        for j in range(9):\n",
        "            assert 1 <= sd.board[i, j] <= 9\n",
        "    # Check the exclusion rules of Sudoku.\n",
        "    for i in range(9):\n",
        "        for j in range(9):\n",
        "            # No repetition in row.\n",
        "            for ii in range(i + 1, 9):\n",
        "                assert sd.board[i, j] != sd.board[ii, j]\n",
        "            # No repetition in column.\n",
        "            for jj in range(j + 1, 9):\n",
        "                assert sd.board[i, j] != sd.board[i, jj]\n",
        "            # No repetition in block\n",
        "            ci, cj = i // 3, j // 3\n",
        "            for bi in range(2):\n",
        "                ii = ci * 3 + bi\n",
        "                for bj in range(2):\n",
        "                    jj = cj * 3 + bj\n",
        "                    if i != ii or j != jj:\n",
        "                        assert sd.board[i, j] != sd.board[ii, jj]\n"
      ]
    },
    {
      "cell_type": "code",
      "execution_count": null,
      "metadata": {
        "deletable": false,
        "editable": false,
        "id": "lHhElEoMIQ30",
        "nbgrader": {
          "checksum": null,
          "grade": false,
          "grade_id": "cell-2e4a5ae0d8f0b677",
          "locked": true,
          "schema_version": 3,
          "solution": false
        },
        "outputId": "572da7ce-2f9c-4b00-fa23-80983bad163c"
      },
      "outputs": [
        {
          "ename": "NameError",
          "evalue": "name 'SudokuViaSAT' is not defined",
          "output_type": "error",
          "traceback": [
            "\u001b[0;31m---------------------------------------------------------------------------\u001b[0m",
            "\u001b[0;31mNameError\u001b[0m                                 Traceback (most recent call last)",
            "\u001b[0;32m<ipython-input-34-c4f294c6d254>\u001b[0m in \u001b[0;36m<module>\u001b[0;34m\u001b[0m\n\u001b[0;32m----> 1\u001b[0;31m \u001b[0mverify_solution\u001b[0m\u001b[0;34m(\u001b[0m\u001b[0mGlucose3\u001b[0m\u001b[0;34m,\u001b[0m \u001b[0mproblem\u001b[0m\u001b[0;34m)\u001b[0m\u001b[0;34m\u001b[0m\u001b[0;34m\u001b[0m\u001b[0m\n\u001b[0m",
            "\u001b[0;32m<ipython-input-33-723b53ffbb2f>\u001b[0m in \u001b[0;36mverify_solution\u001b[0;34m(Solver, sudoku_string)\u001b[0m\n\u001b[1;32m      1\u001b[0m \u001b[0;32mdef\u001b[0m \u001b[0mverify_solution\u001b[0m\u001b[0;34m(\u001b[0m\u001b[0mSolver\u001b[0m\u001b[0;34m,\u001b[0m \u001b[0msudoku_string\u001b[0m\u001b[0;34m)\u001b[0m\u001b[0;34m:\u001b[0m\u001b[0;34m\u001b[0m\u001b[0;34m\u001b[0m\u001b[0m\n\u001b[0;32m----> 2\u001b[0;31m     \u001b[0msd\u001b[0m \u001b[0;34m=\u001b[0m \u001b[0mSudokuViaSAT\u001b[0m\u001b[0;34m(\u001b[0m\u001b[0msudoku_string\u001b[0m\u001b[0;34m)\u001b[0m\u001b[0;34m\u001b[0m\u001b[0;34m\u001b[0m\u001b[0m\n\u001b[0m\u001b[1;32m      3\u001b[0m     \u001b[0msd\u001b[0m\u001b[0;34m.\u001b[0m\u001b[0msolve\u001b[0m\u001b[0;34m(\u001b[0m\u001b[0mSolver\u001b[0m\u001b[0;34m)\u001b[0m\u001b[0;34m\u001b[0m\u001b[0;34m\u001b[0m\u001b[0m\n\u001b[1;32m      4\u001b[0m     \u001b[0;31m# Check that we leave alone the original assignment.\u001b[0m\u001b[0;34m\u001b[0m\u001b[0;34m\u001b[0m\u001b[0;34m\u001b[0m\u001b[0m\n\u001b[1;32m      5\u001b[0m     \u001b[0;32mfor\u001b[0m \u001b[0mi\u001b[0m \u001b[0;32min\u001b[0m \u001b[0mrange\u001b[0m\u001b[0;34m(\u001b[0m\u001b[0;36m9\u001b[0m\u001b[0;34m)\u001b[0m\u001b[0;34m:\u001b[0m\u001b[0;34m\u001b[0m\u001b[0;34m\u001b[0m\u001b[0m\n",
            "\u001b[0;31mNameError\u001b[0m: name 'SudokuViaSAT' is not defined"
          ]
        }
      ],
      "source": [
        "verify_solution(Glucose3, problem)\n"
      ]
    },
    {
      "cell_type": "markdown",
      "metadata": {
        "deletable": false,
        "editable": false,
        "id": "Qt6WCW2KIQ31",
        "nbgrader": {
          "checksum": null,
          "grade": false,
          "grade_id": "cell-2a6020fbc57de9d3",
          "locked": true,
          "schema_version": 3,
          "solution": false
        }
      },
      "source": [
        "Let's check that you get the first 100 puzzles right."
      ]
    },
    {
      "cell_type": "code",
      "execution_count": null,
      "metadata": {
        "deletable": false,
        "editable": false,
        "id": "uMzPBVgIIQ31",
        "nbgrader": {
          "checksum": null,
          "grade": false,
          "grade_id": "cell-21be87a20beeeb39",
          "locked": true,
          "schema_version": 3,
          "solution": false
        }
      },
      "outputs": [],
      "source": [
        "import requests\n",
        "\n",
        "r = requests.get(\"https://raw.githubusercontent.com/shadaj/sudoku/master/sudoku17.txt\")\n",
        "puzzles = r.text.split()\n"
      ]
    },
    {
      "cell_type": "code",
      "execution_count": null,
      "metadata": {
        "deletable": false,
        "editable": false,
        "id": "njDtZ-dGIQ32",
        "nbgrader": {
          "checksum": null,
          "grade": true,
          "grade_id": "cell-4bac1365e179adb3",
          "locked": true,
          "points": 10,
          "schema_version": 3,
          "solution": false
        },
        "outputId": "ea11e69e-5a1e-49ea-942a-3c0f6c041609"
      },
      "outputs": [
        {
          "ename": "NameError",
          "evalue": "name 'SudokuViaSAT' is not defined",
          "output_type": "error",
          "traceback": [
            "\u001b[0;31m---------------------------------------------------------------------------\u001b[0m",
            "\u001b[0;31mNameError\u001b[0m                                 Traceback (most recent call last)",
            "\u001b[0;32m<ipython-input-36-f3d7babdf43e>\u001b[0m in \u001b[0;36m<module>\u001b[0;34m\u001b[0m\n\u001b[1;32m      1\u001b[0m \u001b[0;32mfor\u001b[0m \u001b[0mproblem\u001b[0m \u001b[0;32min\u001b[0m \u001b[0mpuzzles\u001b[0m\u001b[0;34m[\u001b[0m\u001b[0;34m:\u001b[0m\u001b[0;36m100\u001b[0m\u001b[0;34m]\u001b[0m\u001b[0;34m:\u001b[0m\u001b[0;34m\u001b[0m\u001b[0;34m\u001b[0m\u001b[0m\n\u001b[0;32m----> 2\u001b[0;31m     \u001b[0mverify_solution\u001b[0m\u001b[0;34m(\u001b[0m\u001b[0mGlucose3\u001b[0m\u001b[0;34m,\u001b[0m \u001b[0mproblem\u001b[0m\u001b[0;34m)\u001b[0m\u001b[0;34m\u001b[0m\u001b[0;34m\u001b[0m\u001b[0m\n\u001b[0m\u001b[1;32m      3\u001b[0m \u001b[0;34m\u001b[0m\u001b[0m\n",
            "\u001b[0;32m<ipython-input-33-723b53ffbb2f>\u001b[0m in \u001b[0;36mverify_solution\u001b[0;34m(Solver, sudoku_string)\u001b[0m\n\u001b[1;32m      1\u001b[0m \u001b[0;32mdef\u001b[0m \u001b[0mverify_solution\u001b[0m\u001b[0;34m(\u001b[0m\u001b[0mSolver\u001b[0m\u001b[0;34m,\u001b[0m \u001b[0msudoku_string\u001b[0m\u001b[0;34m)\u001b[0m\u001b[0;34m:\u001b[0m\u001b[0;34m\u001b[0m\u001b[0;34m\u001b[0m\u001b[0m\n\u001b[0;32m----> 2\u001b[0;31m     \u001b[0msd\u001b[0m \u001b[0;34m=\u001b[0m \u001b[0mSudokuViaSAT\u001b[0m\u001b[0;34m(\u001b[0m\u001b[0msudoku_string\u001b[0m\u001b[0;34m)\u001b[0m\u001b[0;34m\u001b[0m\u001b[0;34m\u001b[0m\u001b[0m\n\u001b[0m\u001b[1;32m      3\u001b[0m     \u001b[0msd\u001b[0m\u001b[0;34m.\u001b[0m\u001b[0msolve\u001b[0m\u001b[0;34m(\u001b[0m\u001b[0mSolver\u001b[0m\u001b[0;34m)\u001b[0m\u001b[0;34m\u001b[0m\u001b[0;34m\u001b[0m\u001b[0m\n\u001b[1;32m      4\u001b[0m     \u001b[0;31m# Check that we leave alone the original assignment.\u001b[0m\u001b[0;34m\u001b[0m\u001b[0;34m\u001b[0m\u001b[0;34m\u001b[0m\u001b[0m\n\u001b[1;32m      5\u001b[0m     \u001b[0;32mfor\u001b[0m \u001b[0mi\u001b[0m \u001b[0;32min\u001b[0m \u001b[0mrange\u001b[0m\u001b[0;34m(\u001b[0m\u001b[0;36m9\u001b[0m\u001b[0;34m)\u001b[0m\u001b[0;34m:\u001b[0m\u001b[0;34m\u001b[0m\u001b[0;34m\u001b[0m\u001b[0m\n",
            "\u001b[0;31mNameError\u001b[0m: name 'SudokuViaSAT' is not defined"
          ]
        }
      ],
      "source": [
        "### For this question, you received 0 out of 10 points.\n",
        "\n",
        "for problem in puzzles[:100]:\n",
        "    verify_solution(Glucose3, problem)\n",
        "\n"
      ]
    },
    {
      "cell_type": "markdown",
      "metadata": {
        "deletable": false,
        "editable": false,
        "id": "KcEWrN6uIQ33",
        "nbgrader": {
          "checksum": null,
          "grade": false,
          "grade_id": "cell-48b5eb16fb5d5558",
          "locked": true,
          "schema_version": 3,
          "solution": false
        }
      },
      "source": [
        "## What is faster: custom solution, or solving via SAT?\n",
        "\n",
        "Let us compute the time it takes us to solve a problem with each solver."
      ]
    },
    {
      "cell_type": "code",
      "execution_count": null,
      "metadata": {
        "deletable": false,
        "editable": false,
        "id": "kiCqDFX5IQ33",
        "nbgrader": {
          "checksum": null,
          "grade": false,
          "grade_id": "cell-31a3cfd960520f62",
          "locked": true,
          "schema_version": 3,
          "solution": false
        }
      },
      "outputs": [],
      "source": [
        "import time\n",
        "\n",
        "def compute_performance(problem_idx):\n",
        "    for Solver in [Glucose3, Glucose4, Minisat22]:\n",
        "        t = time.time()\n",
        "        sd = SudokuViaSAT(puzzles[problem_idx])\n",
        "        sd.solve(Solver)\n",
        "        dt = time.time() - t\n",
        "        print(Solver.__name__, \":\", dt)\n"
      ]
    },
    {
      "cell_type": "markdown",
      "metadata": {
        "deletable": false,
        "editable": false,
        "id": "H8EWWZOmIQ33",
        "nbgrader": {
          "checksum": null,
          "grade": false,
          "grade_id": "cell-cc9178b1961dcdaf",
          "locked": true,
          "schema_version": 3,
          "solution": false
        }
      },
      "source": [
        "Puzzle 6361 was taking 0.013 with our custom solver."
      ]
    },
    {
      "cell_type": "code",
      "execution_count": null,
      "metadata": {
        "colab": {
          "base_uri": "https://localhost:8080/"
        },
        "deletable": false,
        "editable": false,
        "id": "tZBHJqIxIQ34",
        "nbgrader": {
          "checksum": null,
          "grade": false,
          "grade_id": "cell-ca136af2f97437d",
          "locked": true,
          "schema_version": 3,
          "solution": false
        },
        "outputId": "7341584a-423e-4b1a-d8fe-ddbcce7abf09"
      },
      "outputs": [
        {
          "ename": "NameError",
          "evalue": "name 'SudokuViaSAT' is not defined",
          "output_type": "error",
          "traceback": [
            "\u001b[0;31m---------------------------------------------------------------------------\u001b[0m",
            "\u001b[0;31mNameError\u001b[0m                                 Traceback (most recent call last)",
            "\u001b[0;32m<ipython-input-38-d23104040df6>\u001b[0m in \u001b[0;36m<module>\u001b[0;34m\u001b[0m\n\u001b[0;32m----> 1\u001b[0;31m \u001b[0mcompute_performance\u001b[0m\u001b[0;34m(\u001b[0m\u001b[0;36m6361\u001b[0m\u001b[0;34m)\u001b[0m\u001b[0;34m\u001b[0m\u001b[0;34m\u001b[0m\u001b[0m\n\u001b[0m",
            "\u001b[0;32m<ipython-input-37-9272344a00f3>\u001b[0m in \u001b[0;36mcompute_performance\u001b[0;34m(problem_idx)\u001b[0m\n\u001b[1;32m      4\u001b[0m     \u001b[0;32mfor\u001b[0m \u001b[0mSolver\u001b[0m \u001b[0;32min\u001b[0m \u001b[0;34m[\u001b[0m\u001b[0mGlucose3\u001b[0m\u001b[0;34m,\u001b[0m \u001b[0mGlucose4\u001b[0m\u001b[0;34m,\u001b[0m \u001b[0mMinisat22\u001b[0m\u001b[0;34m]\u001b[0m\u001b[0;34m:\u001b[0m\u001b[0;34m\u001b[0m\u001b[0;34m\u001b[0m\u001b[0m\n\u001b[1;32m      5\u001b[0m         \u001b[0mt\u001b[0m \u001b[0;34m=\u001b[0m \u001b[0mtime\u001b[0m\u001b[0;34m.\u001b[0m\u001b[0mtime\u001b[0m\u001b[0;34m(\u001b[0m\u001b[0;34m)\u001b[0m\u001b[0;34m\u001b[0m\u001b[0;34m\u001b[0m\u001b[0m\n\u001b[0;32m----> 6\u001b[0;31m         \u001b[0msd\u001b[0m \u001b[0;34m=\u001b[0m \u001b[0mSudokuViaSAT\u001b[0m\u001b[0;34m(\u001b[0m\u001b[0mpuzzles\u001b[0m\u001b[0;34m[\u001b[0m\u001b[0mproblem_idx\u001b[0m\u001b[0;34m]\u001b[0m\u001b[0;34m)\u001b[0m\u001b[0;34m\u001b[0m\u001b[0;34m\u001b[0m\u001b[0m\n\u001b[0m\u001b[1;32m      7\u001b[0m         \u001b[0msd\u001b[0m\u001b[0;34m.\u001b[0m\u001b[0msolve\u001b[0m\u001b[0;34m(\u001b[0m\u001b[0mSolver\u001b[0m\u001b[0;34m)\u001b[0m\u001b[0;34m\u001b[0m\u001b[0;34m\u001b[0m\u001b[0m\n\u001b[1;32m      8\u001b[0m         \u001b[0mdt\u001b[0m \u001b[0;34m=\u001b[0m \u001b[0mtime\u001b[0m\u001b[0;34m.\u001b[0m\u001b[0mtime\u001b[0m\u001b[0;34m(\u001b[0m\u001b[0;34m)\u001b[0m \u001b[0;34m-\u001b[0m \u001b[0mt\u001b[0m\u001b[0;34m\u001b[0m\u001b[0;34m\u001b[0m\u001b[0m\n",
            "\u001b[0;31mNameError\u001b[0m: name 'SudokuViaSAT' is not defined"
          ]
        }
      ],
      "source": [
        "compute_performance(6361)\n"
      ]
    },
    {
      "cell_type": "markdown",
      "metadata": {
        "deletable": false,
        "editable": false,
        "id": "reE7iO5EIQ34",
        "nbgrader": {
          "checksum": null,
          "grade": false,
          "grade_id": "cell-a36003ccda55b3ca",
          "locked": true,
          "schema_version": 3,
          "solution": false
        }
      },
      "source": [
        "Our custom solver does a little better. Let's try other hard problems.  Using our custom solver, we had:\n",
        "\n",
        "    Idx: 1258 d: 0.7234883308410645\n",
        "    Idx: 5302 d: 1.112680435180664\n",
        "    Idx: 10980 d: 1.6263811588287354\n",
        "    Idx: 25632 d: 1.7625515460968018\n",
        "    Idx: 48287 d: 2.2216758728027344\n",
        "\n",
        "Let us see how we do on these."
      ]
    },
    {
      "cell_type": "code",
      "execution_count": null,
      "metadata": {
        "colab": {
          "base_uri": "https://localhost:8080/"
        },
        "deletable": false,
        "editable": false,
        "id": "0mKt9TFgIQ34",
        "nbgrader": {
          "checksum": null,
          "grade": false,
          "grade_id": "cell-8cbc9590dc1a6144",
          "locked": true,
          "schema_version": 3,
          "solution": false
        },
        "outputId": "9061240d-acd0-4a0b-9897-3328dca9ee5c"
      },
      "outputs": [
        {
          "ename": "NameError",
          "evalue": "name 'SudokuViaSAT' is not defined",
          "output_type": "error",
          "traceback": [
            "\u001b[0;31m---------------------------------------------------------------------------\u001b[0m",
            "\u001b[0;31mNameError\u001b[0m                                 Traceback (most recent call last)",
            "\u001b[0;32m<ipython-input-39-eabe23c2ce4e>\u001b[0m in \u001b[0;36m<module>\u001b[0;34m\u001b[0m\n\u001b[0;32m----> 1\u001b[0;31m \u001b[0mcompute_performance\u001b[0m\u001b[0;34m(\u001b[0m\u001b[0;36m1258\u001b[0m\u001b[0;34m)\u001b[0m\u001b[0;34m\u001b[0m\u001b[0;34m\u001b[0m\u001b[0m\n\u001b[0m\u001b[1;32m      2\u001b[0m \u001b[0mcompute_performance\u001b[0m\u001b[0;34m(\u001b[0m\u001b[0;36m5302\u001b[0m\u001b[0;34m)\u001b[0m\u001b[0;34m\u001b[0m\u001b[0;34m\u001b[0m\u001b[0m\n\u001b[1;32m      3\u001b[0m \u001b[0mcompute_performance\u001b[0m\u001b[0;34m(\u001b[0m\u001b[0;36m10980\u001b[0m\u001b[0;34m)\u001b[0m\u001b[0;34m\u001b[0m\u001b[0;34m\u001b[0m\u001b[0m\n\u001b[1;32m      4\u001b[0m \u001b[0mcompute_performance\u001b[0m\u001b[0;34m(\u001b[0m\u001b[0;36m25632\u001b[0m\u001b[0;34m)\u001b[0m\u001b[0;34m\u001b[0m\u001b[0;34m\u001b[0m\u001b[0m\n\u001b[1;32m      5\u001b[0m \u001b[0mcompute_performance\u001b[0m\u001b[0;34m(\u001b[0m\u001b[0;36m48287\u001b[0m\u001b[0;34m)\u001b[0m\u001b[0;34m\u001b[0m\u001b[0;34m\u001b[0m\u001b[0m\n",
            "\u001b[0;32m<ipython-input-37-9272344a00f3>\u001b[0m in \u001b[0;36mcompute_performance\u001b[0;34m(problem_idx)\u001b[0m\n\u001b[1;32m      4\u001b[0m     \u001b[0;32mfor\u001b[0m \u001b[0mSolver\u001b[0m \u001b[0;32min\u001b[0m \u001b[0;34m[\u001b[0m\u001b[0mGlucose3\u001b[0m\u001b[0;34m,\u001b[0m \u001b[0mGlucose4\u001b[0m\u001b[0;34m,\u001b[0m \u001b[0mMinisat22\u001b[0m\u001b[0;34m]\u001b[0m\u001b[0;34m:\u001b[0m\u001b[0;34m\u001b[0m\u001b[0;34m\u001b[0m\u001b[0m\n\u001b[1;32m      5\u001b[0m         \u001b[0mt\u001b[0m \u001b[0;34m=\u001b[0m \u001b[0mtime\u001b[0m\u001b[0;34m.\u001b[0m\u001b[0mtime\u001b[0m\u001b[0;34m(\u001b[0m\u001b[0;34m)\u001b[0m\u001b[0;34m\u001b[0m\u001b[0;34m\u001b[0m\u001b[0m\n\u001b[0;32m----> 6\u001b[0;31m         \u001b[0msd\u001b[0m \u001b[0;34m=\u001b[0m \u001b[0mSudokuViaSAT\u001b[0m\u001b[0;34m(\u001b[0m\u001b[0mpuzzles\u001b[0m\u001b[0;34m[\u001b[0m\u001b[0mproblem_idx\u001b[0m\u001b[0;34m]\u001b[0m\u001b[0;34m)\u001b[0m\u001b[0;34m\u001b[0m\u001b[0;34m\u001b[0m\u001b[0m\n\u001b[0m\u001b[1;32m      7\u001b[0m         \u001b[0msd\u001b[0m\u001b[0;34m.\u001b[0m\u001b[0msolve\u001b[0m\u001b[0;34m(\u001b[0m\u001b[0mSolver\u001b[0m\u001b[0;34m)\u001b[0m\u001b[0;34m\u001b[0m\u001b[0;34m\u001b[0m\u001b[0m\n\u001b[1;32m      8\u001b[0m         \u001b[0mdt\u001b[0m \u001b[0;34m=\u001b[0m \u001b[0mtime\u001b[0m\u001b[0;34m.\u001b[0m\u001b[0mtime\u001b[0m\u001b[0;34m(\u001b[0m\u001b[0;34m)\u001b[0m \u001b[0;34m-\u001b[0m \u001b[0mt\u001b[0m\u001b[0;34m\u001b[0m\u001b[0;34m\u001b[0m\u001b[0m\n",
            "\u001b[0;31mNameError\u001b[0m: name 'SudokuViaSAT' is not defined"
          ]
        }
      ],
      "source": [
        "compute_performance(1258)\n",
        "compute_performance(5302)\n",
        "compute_performance(10980)\n",
        "compute_performance(25632)\n",
        "compute_performance(48287)\n"
      ]
    },
    {
      "cell_type": "markdown",
      "metadata": {
        "deletable": false,
        "editable": false,
        "id": "FBM4uka6IQ35",
        "nbgrader": {
          "checksum": null,
          "grade": false,
          "grade_id": "cell-ad21a1c63378bc45",
          "locked": true,
          "schema_version": 3,
          "solution": false
        }
      },
      "source": [
        "Ha! This is quite interesting. What our solver found hard, these SAT solvers find easy!  Let's see the worst case of Glucose4 on all the testset:"
      ]
    },
    {
      "cell_type": "code",
      "execution_count": null,
      "metadata": {
        "deletable": false,
        "editable": false,
        "id": "itqQSf0aIQ35",
        "nbgrader": {
          "checksum": null,
          "grade": false,
          "grade_id": "cell-dce54b8eb8b3ae7b",
          "locked": true,
          "schema_version": 3,
          "solution": false
        }
      },
      "outputs": [],
      "source": [
        "def compute_performance(Solver, num_problems):\n",
        "    max_time = 0\n",
        "    for idx, problem in enumerate(puzzles[:num_problems]):\n",
        "        t = time.time()\n",
        "        sd = SudokuViaSAT(problem)\n",
        "        sd.solve(Solver)\n",
        "        dt = time.time() - t\n",
        "        if dt > max_time:\n",
        "            print(idx, \":\", dt)\n",
        "            max_time = dt\n"
      ]
    },
    {
      "cell_type": "markdown",
      "metadata": {
        "deletable": false,
        "editable": false,
        "id": "Ga2X2u7aIQ35",
        "nbgrader": {
          "checksum": null,
          "grade": false,
          "grade_id": "cell-1a63b09cf9483115",
          "locked": true,
          "schema_version": 3,
          "solution": false
        }
      },
      "source": [
        "Let's try the first 1000:"
      ]
    },
    {
      "cell_type": "code",
      "execution_count": null,
      "metadata": {
        "colab": {
          "base_uri": "https://localhost:8080/",
          "height": 351
        },
        "deletable": false,
        "editable": false,
        "id": "lpjkXY3kIQ35",
        "nbgrader": {
          "checksum": null,
          "grade": false,
          "grade_id": "cell-1670c4fe1f1f51a",
          "locked": true,
          "schema_version": 3,
          "solution": false
        },
        "outputId": "39566e48-fe98-455f-eef0-07ede89b1e66"
      },
      "outputs": [
        {
          "ename": "NameError",
          "evalue": "name 'SudokuViaSAT' is not defined",
          "output_type": "error",
          "traceback": [
            "\u001b[0;31m---------------------------------------------------------------------------\u001b[0m",
            "\u001b[0;31mNameError\u001b[0m                                 Traceback (most recent call last)",
            "\u001b[0;32m<ipython-input-41-df8a9f057ce1>\u001b[0m in \u001b[0;36m<module>\u001b[0;34m\u001b[0m\n\u001b[0;32m----> 1\u001b[0;31m \u001b[0mcompute_performance\u001b[0m\u001b[0;34m(\u001b[0m\u001b[0mGlucose4\u001b[0m\u001b[0;34m,\u001b[0m \u001b[0;36m1000\u001b[0m\u001b[0;34m)\u001b[0m\u001b[0;34m\u001b[0m\u001b[0;34m\u001b[0m\u001b[0m\n\u001b[0m",
            "\u001b[0;32m<ipython-input-40-09ea9ba605e3>\u001b[0m in \u001b[0;36mcompute_performance\u001b[0;34m(Solver, num_problems)\u001b[0m\n\u001b[1;32m      3\u001b[0m     \u001b[0;32mfor\u001b[0m \u001b[0midx\u001b[0m\u001b[0;34m,\u001b[0m \u001b[0mproblem\u001b[0m \u001b[0;32min\u001b[0m \u001b[0menumerate\u001b[0m\u001b[0;34m(\u001b[0m\u001b[0mpuzzles\u001b[0m\u001b[0;34m[\u001b[0m\u001b[0;34m:\u001b[0m\u001b[0mnum_problems\u001b[0m\u001b[0;34m]\u001b[0m\u001b[0;34m)\u001b[0m\u001b[0;34m:\u001b[0m\u001b[0;34m\u001b[0m\u001b[0;34m\u001b[0m\u001b[0m\n\u001b[1;32m      4\u001b[0m         \u001b[0mt\u001b[0m \u001b[0;34m=\u001b[0m \u001b[0mtime\u001b[0m\u001b[0;34m.\u001b[0m\u001b[0mtime\u001b[0m\u001b[0;34m(\u001b[0m\u001b[0;34m)\u001b[0m\u001b[0;34m\u001b[0m\u001b[0;34m\u001b[0m\u001b[0m\n\u001b[0;32m----> 5\u001b[0;31m         \u001b[0msd\u001b[0m \u001b[0;34m=\u001b[0m \u001b[0mSudokuViaSAT\u001b[0m\u001b[0;34m(\u001b[0m\u001b[0mproblem\u001b[0m\u001b[0;34m)\u001b[0m\u001b[0;34m\u001b[0m\u001b[0;34m\u001b[0m\u001b[0m\n\u001b[0m\u001b[1;32m      6\u001b[0m         \u001b[0msd\u001b[0m\u001b[0;34m.\u001b[0m\u001b[0msolve\u001b[0m\u001b[0;34m(\u001b[0m\u001b[0mSolver\u001b[0m\u001b[0;34m)\u001b[0m\u001b[0;34m\u001b[0m\u001b[0;34m\u001b[0m\u001b[0m\n\u001b[1;32m      7\u001b[0m         \u001b[0mdt\u001b[0m \u001b[0;34m=\u001b[0m \u001b[0mtime\u001b[0m\u001b[0;34m.\u001b[0m\u001b[0mtime\u001b[0m\u001b[0;34m(\u001b[0m\u001b[0;34m)\u001b[0m \u001b[0;34m-\u001b[0m \u001b[0mt\u001b[0m\u001b[0;34m\u001b[0m\u001b[0;34m\u001b[0m\u001b[0m\n",
            "\u001b[0;31mNameError\u001b[0m: name 'SudokuViaSAT' is not defined"
          ]
        }
      ],
      "source": [
        "compute_performance(Glucose4, 1000)\n"
      ]
    },
    {
      "cell_type": "markdown",
      "metadata": {
        "deletable": false,
        "editable": false,
        "id": "ysH1Yu6aIQ36",
        "nbgrader": {
          "checksum": null,
          "grade": false,
          "grade_id": "cell-fc0a1c45625c44ff",
          "locked": true,
          "schema_version": 3,
          "solution": false
        }
      },
      "source": [
        "If you experimented for a while, you would notice that solving Sudoku via SAT has a worse average-case behavior, but better worst-case behavior, than our custom solver.\n",
        "This is not bad at all for an approach that relies on an off-the-shelf rather than a custom solver.\n",
        "This helps illustrate the practical importance of efficient SAT solvers as tools that can be used to solve a wide range of search problems."
      ]
    }
  ],
  "metadata": {
    "colab": {
      "provenance": []
    },
    "kernelspec": {
      "display_name": "Python 3",
      "language": "python",
      "name": "python3"
    },
    "language_info": {
      "codemirror_mode": {
        "name": "ipython",
        "version": 3
      },
      "file_extension": ".py",
      "mimetype": "text/x-python",
      "name": "python",
      "nbconvert_exporter": "python",
      "pygments_lexer": "ipython3",
      "version": "3.8.10"
    },
    "test_info": {
      "id": "939fa8d82aba6ebae39a03988c9971a105c07e31"
    }
  },
  "nbformat": 4,
  "nbformat_minor": 0
}